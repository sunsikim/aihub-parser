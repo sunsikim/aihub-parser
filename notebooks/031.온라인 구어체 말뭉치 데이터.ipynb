{
 "cells": [
  {
   "cell_type": "code",
   "execution_count": 1,
   "id": "ef18ca60-2601-4b0e-96a3-bfe1c82a65a2",
   "metadata": {},
   "outputs": [],
   "source": [
    "import os\n",
    "import pathlib\n",
    "import shutil\n",
    "import json\n",
    "import polars as pl\n",
    "from pprint import pprint\n",
    "from tqdm import tqdm\n",
    "\n",
    "pl.Config.load_from_file(\"pl_config.json\")\n",
    "pl.set_random_seed(999)"
   ]
  },
  {
   "cell_type": "markdown",
   "id": "4c10fade-fe4e-4057-92fa-e7e5ff0e5943",
   "metadata": {},
   "source": [
    "## 다운로드"
   ]
  },
  {
   "cell_type": "markdown",
   "id": "f545f605-d99b-4be4-ae9d-6c811de396a9",
   "metadata": {},
   "source": [
    "다운받을 데이터셋 정보 조회"
   ]
  },
  {
   "cell_type": "code",
   "execution_count": 2,
   "id": "04ac5194-5898-4fa1-8c9f-1de9d0eeeac3",
   "metadata": {},
   "outputs": [
    {
     "name": "stdout",
     "output_type": "stream",
     "text": [
      "==========================================\n",
      "aihubshell version 24.01.29 v0.3\n",
      "==========================================\n",
      "Fetching file tree structure...\n",
      "The contents are encoded in UTF-8 including Korean characters. \n",
      "If the following contents are not output normally, \n",
      "Please modify the character information of the OS. \n",
      "=================공지사항=================== \n",
      "========================================== \n",
      "\n",
      "    └─031.온라인 구어체 말뭉치 데이터\n",
      "        ├─01.데이터\n",
      "        │  └─1.Training_220728_add\n",
      "        │      ├─원천데이터\n",
      "        │      │  └─TS1.zip | 287 MB | 62289\n",
      "        │      └─라벨링데이터\n",
      "        │          └─TL1.zip | 1 GB | 62288\n",
      "        ├─02.저작도구\n",
      "        │  └─3.저작도구 사용매뉴얼\n",
      "        │      └─저작도구 사용매뉴얼.zip | 14 MB | 69304\n",
      "        └─03.AI 모델\n",
      "            └─AI모델 및 소스코드.zip | 811 MB | 487495\n"
     ]
    }
   ],
   "source": [
    "!aihubshell -mode l -datasetkey 625"
   ]
  },
  {
   "cell_type": "markdown",
   "id": "9a31ee30-082b-44c8-bfe4-cdc390b110b3",
   "metadata": {},
   "source": [
    "구어체 데이터는 원천 데이터, 라벨링 데이터로 구성되어 있다. AI Hub 데이터셋 소개란에 기재된 [개요](https://aihub.or.kr/aihubdata/data/view.do?currMenu=115&topMenu=100&aihubDataSe=data&dataSetSn=625)에 따르면:\n",
    "\n",
    "* 원천 데이터\n",
    "  * 원시데이터(웹데이터)로부터 비문, 비속어, 편향성, 비식별화 등 정제된 JSON 구조의 텍스트 데이터 10억 어절 이상\n",
    "* 라벨링 데이터\n",
    "  * 원천데이터로부터 JSON구조의 구문에 맞게 개체명과 신조어, 형태소(간투어, 부사 등)에 대하여 태깅된 텍스트 데이터 10억 어절 이상\n",
    "\n",
    "따라서, 언어모델 사전학습용 말뭉치 구성을 위한 텍스트만 추출해야 한다면 원천데이터(62289)만 사용하면 된다."
   ]
  },
  {
   "cell_type": "code",
   "execution_count": 3,
   "id": "de458d64-f622-4770-ac45-cd08fb0960ba",
   "metadata": {},
   "outputs": [
    {
     "name": "stdout",
     "output_type": "stream",
     "text": [
      "==========================================\n",
      "aihubshell version 24.01.29 v0.3\n",
      "==========================================\n",
      "Authentication successful.\n",
      "  % Total    % Received % Xferd  Average Speed   Time    Time     Time  Current\n",
      "                                 Dload  Upload   Total   Spent    Left  Speed\n",
      "  0     0    0     0    0     0      0      0 --:--:-- --:--:-- --:--:--     0\n",
      "100  287M    0  287M    0     0  5418k      0 --:--:--  0:00:54 --:--:-- 5659k:--:--  0:00:02 --:--:-- 4362k4 --:--:-- 4169k  0     0  3793k      0 --:--:--  0:00:07 --:--:-- 4059k 0     0  5436k      0 --:--:--  0:00:28 --:--:-- 5640k\n",
      "Request successful with HTTP status 200.\n",
      "Download successful.\n",
      "x 031.온라인_구어체_말뭉치_데이터/01.데이터/1.Training_220728_add/원천데이터/TS1.zip.part0\n",
      "잠시 기다려 주세요 병합중 입니다. \n",
      "Merging TS1.zip in ./031.온라인_구어체_말뭉치_데이터/01.데이터/1.Training_220728_add/원천데이터\n",
      "병합이 완료 되었습니다. \n"
     ]
    }
   ],
   "source": [
    "!aihubshell -mode d -datasetkey 625 -filekey 62289"
   ]
  },
  {
   "cell_type": "markdown",
   "id": "78cd7b4e-4c8d-401c-b88e-50c5b9d10f73",
   "metadata": {},
   "source": [
    "다운받은 데이터 디렉토리 및 결과 디렉토리 정의"
   ]
  },
  {
   "cell_type": "code",
   "execution_count": 4,
   "id": "42ff81c2-e562-4ffc-993b-f1d64af9d964",
   "metadata": {},
   "outputs": [],
   "source": [
    "archive_dir = [path for path in pathlib.Path(os.getcwd()).glob(\"031*\") if path.suffix != \".ipynb\"][0]\n",
    "result_dir = pathlib.Path(f\"{os.getcwd()}/aihub-datasets\")\n",
    "result_dir.mkdir(parents=True, exist_ok=True)"
   ]
  },
  {
   "cell_type": "markdown",
   "id": "62b43dc2-a81a-4512-b684-c2d36f39e83d",
   "metadata": {},
   "source": [
    "## 압축 해제 및 EDA"
   ]
  },
  {
   "cell_type": "markdown",
   "id": "fe1d95fd-13f3-448b-b0a7-07a1d178422c",
   "metadata": {},
   "source": [
    "원천데이터 압축파일 경로 정의"
   ]
  },
  {
   "cell_type": "code",
   "execution_count": 5,
   "id": "cb7ffd56-7455-4d97-9b9c-667eef67cd9f",
   "metadata": {},
   "outputs": [],
   "source": [
    "for walk in os.walk(archive_dir):\n",
    "    current_path, folders, files = walk\n",
    "    for file_name in files:\n",
    "        if file_name.endswith(\".zip\") and current_path.endswith(\"원천데이터\"):\n",
    "            archive_path = f\"{current_path}/{file_name}\""
   ]
  },
  {
   "cell_type": "markdown",
   "id": "14ef67f8-55a9-481f-9964-27f893a3ae4d",
   "metadata": {},
   "source": [
    "압축 해제"
   ]
  },
  {
   "cell_type": "code",
   "execution_count": 6,
   "id": "f3a2ebca-d2c5-4a77-8b61-e80c2a61a289",
   "metadata": {},
   "outputs": [],
   "source": [
    "data_dir = pathlib.Path(archive_path.strip(\".zip\"))\n",
    "shutil.unpack_archive(\n",
    "    filename=archive_path,\n",
    "    extract_dir=data_dir,\n",
    "    format=\"zip\",\n",
    ")"
   ]
  },
  {
   "cell_type": "markdown",
   "id": "2cebd57a-fbde-45d8-a88a-fe1820cf71c3",
   "metadata": {},
   "source": [
    "각 데이터는 json 형태로 저장되어 있다. 파일 하나가 게시글 하나고, 하위 필드에 댓글 등 구어체 데이터가 달려있는 양상을 보인다."
   ]
  },
  {
   "cell_type": "code",
   "execution_count": 7,
   "id": "470aa678-5624-453a-8dd4-782aae7a7859",
   "metadata": {},
   "outputs": [
    {
     "name": "stdout",
     "output_type": "stream",
     "text": [
      "Number of files in dataset : 23,035\n"
     ]
    }
   ],
   "source": [
    "data_files = list(data_dir.glob(\"*/*.json\"))\n",
    "print(f\"Number of files in dataset : {len(data_files):,}\")"
   ]
  },
  {
   "cell_type": "markdown",
   "id": "be6fce54-c581-4e2a-a0f9-d58f6d97245a",
   "metadata": {},
   "source": [
    "데이터 속성값들"
   ]
  },
  {
   "cell_type": "code",
   "execution_count": 8,
   "id": "d7a26163-c9ac-4c3a-9abd-73dd514e742d",
   "metadata": {},
   "outputs": [
    {
     "name": "stdout",
     "output_type": "stream",
     "text": [
      "[{'content': '헤어스타일이, 어디선가 본듯한, 개그맨,최, 준,',\n",
      "  'parent_url': 'https://www.youtube.com/watch?v=xA10nZDs0x8',\n",
      "  'source_site': 'https://www.youtube.com/',\n",
      "  'url': 'https://www.youtube.com/channel/UCESC_GRUe4Z7-OOxk_AWm5Q',\n",
      "  'write_date': '2021-11-06',\n",
      "  'writer': 'Ugxadr5R3lx6LenCsqF4AaABAg'},\n",
      " {'content': '우리 봄이도 한창 어리광 피울 나이인데 말괄량이 딸 키우느라 혼자만의 시간 필요 할거예요 헤어 스타일 치명적이네요',\n",
      "  'parent_url': 'https://www.youtube.com/watch?v=xA10nZDs0x8',\n",
      "  'source_site': 'https://www.youtube.com/',\n",
      "  'url': 'https://www.youtube.com/channel/UCESC_GRUe4Z7-OOxk_AWm5Q',\n",
      "  'write_date': '2021-11-03',\n",
      "  'writer': 'UgwInLF92qcaWKROXSh4AaABAg'},\n",
      " {'content': '잘못 한거 눈치채고 도망가네 봄아. 휴지는 치워야지',\n",
      "  'parent_url': 'https://www.youtube.com/watch?v=xA10nZDs0x8',\n",
      "  'source_site': 'https://www.youtube.com/',\n",
      "  'url': 'https://www.youtube.com/channel/UCESC_GRUe4Z7-OOxk_AWm5Q',\n",
      "  'write_date': '2021-10-14',\n",
      "  'writer': 'Ugz8SHOZVwxwLUBBhlh4AaABAg'},\n",
      " {'content': '저 , 궁금한게 있는데요 거실매트를 까신 (이름) 궁금해요. 혹시 강쥐들 발톱땜에 기스나서 그런건지 , 왜냐면 울집 '\n",
      "             '거실바닥 얼룩자국 기스나고 고민되네요',\n",
      "  'parent_url': 'https://www.youtube.com/watch?v=xA10nZDs0x8',\n",
      "  'source_site': 'https://www.youtube.com/',\n",
      "  'url': 'https://www.youtube.com/channel/UCESC_GRUe4Z7-OOxk_AWm5Q',\n",
      "  'write_date': '2021-09-14',\n",
      "  'writer': 'Ugzi2eBay1X8Rwj69QN4AaABAg'}]\n"
     ]
    }
   ],
   "source": [
    "with open(data_files[0], \"r\") as file:\n",
    "    documents = json.load(file)[\"SJML\"][\"text\"]\n",
    "pprint(documents[:4])"
   ]
  },
  {
   "cell_type": "markdown",
   "id": "0bee08fa-8d28-4c8c-9614-7e04ea37813b",
   "metadata": {},
   "source": [
    "전체 로드"
   ]
  },
  {
   "cell_type": "code",
   "execution_count": 9,
   "id": "1649f00c-89be-4987-9ec5-9d68304981ad",
   "metadata": {},
   "outputs": [
    {
     "name": "stderr",
     "output_type": "stream",
     "text": [
      "100%|█████████████████████████████████████████████████████████████████████████████████████████████████████████████████████████████████████████████████████████████████████████| 23035/23035 [00:14<00:00, 1593.39it/s]\n"
     ]
    }
   ],
   "source": [
    "corpus = []\n",
    "for data_file in tqdm(data_files):\n",
    "    with open(data_file, \"r\") as file:\n",
    "        documents = json.load(file)[\"SJML\"][\"text\"]\n",
    "    corpus.extend([document[\"content\"] for document in documents])"
   ]
  },
  {
   "cell_type": "markdown",
   "id": "926cdd14-f186-4ac3-a945-6dd3f281dd08",
   "metadata": {},
   "source": [
    "EDA를 위해 데이터프레임으로 변환"
   ]
  },
  {
   "cell_type": "code",
   "execution_count": 10,
   "id": "b05d1a37-70a9-48d0-82b4-48ae3c79bea2",
   "metadata": {},
   "outputs": [
    {
     "name": "stdout",
     "output_type": "stream",
     "text": [
      "Number of documents in the corpus : 5,133,299\n"
     ]
    }
   ],
   "source": [
    "eda_dataset = pl.DataFrame({\"document\": corpus}).sample(fraction=1, shuffle=True)\n",
    "print(f\"Number of documents in the corpus : {eda_dataset.height:,}\")"
   ]
  },
  {
   "cell_type": "markdown",
   "id": "dfd90bc8-0b20-471d-903f-9b8a2b150960",
   "metadata": {},
   "source": [
    "### 태그가 포함된 문서 제거"
   ]
  },
  {
   "cell_type": "markdown",
   "id": "f8af5214-6d68-4b7c-90f4-aa4d39f7fe3c",
   "metadata": {},
   "source": [
    "위의 예시에서 `(이름)`같은 태그를 사용해 공개하기 부적절하다고 판단한 정보를 마스킹한 것을 확인할 수 있다. 위와 같은 태그가 몇 종류나 있는지 확인해보기 위해 정규표현식을 사용해 해당 패턴을 매칭하고 개수를 센다."
   ]
  },
  {
   "cell_type": "code",
   "execution_count": 11,
   "id": "bf79209b-06d5-4112-8bc8-8c1d0e624a87",
   "metadata": {},
   "outputs": [
    {
     "data": {
      "text/html": [
       "<div><style>\n",
       ".dataframe > thead > tr,\n",
       ".dataframe > tbody > tr {\n",
       "  text-align: right;\n",
       "  white-space: pre-wrap;\n",
       "}\n",
       "</style>\n",
       "<table border=\"1\" class=\"dataframe\"><thead><tr><th>mask_pattern</th><th>pattern_occurence_count</th></tr><tr><td>str</td><td>u32</td></tr></thead><tbody><tr><td>null</td><td>3,733,482</td></tr><tr><td>&quot;(이름)&quot;</td><td>775,618</td></tr><tr><td>&quot;(비속어)&quot;</td><td>340,288</td></tr><tr><td>&quot;(반사회적용어)&quot;</td><td>182,943</td></tr><tr><td>&quot;(혐오표현)&quot;</td><td>65,707</td></tr><tr><td>&quot;(이메일)&quot;</td><td>9,556</td></tr><tr><td>&quot;(전화번호)&quot;</td><td>365</td></tr><tr><td>&quot;(님)&quot;</td><td>283</td></tr><tr><td>&quot;(덜렁)&quot;</td><td>200</td></tr><tr><td>&quot;(퍽)&quot;</td><td>186</td></tr></tbody></table></div>"
      ],
      "text/plain": [
       "┌────────────────┬─────────────────────────┐\n",
       "│ mask_pattern   ┆ pattern_occurence_count │\n",
       "│ ---            ┆ ---                     │\n",
       "│ str            ┆ u32                     │\n",
       "╞════════════════╪═════════════════════════╡\n",
       "│ null           ┆ 3,733,482               │\n",
       "│ (이름)         ┆ 775,618                 │\n",
       "│ (비속어)       ┆ 340,288                 │\n",
       "│ (반사회적용어) ┆ 182,943                 │\n",
       "│ (혐오표현)     ┆ 65,707                  │\n",
       "│ (이메일)       ┆ 9,556                   │\n",
       "│ (전화번호)     ┆ 365                     │\n",
       "│ (님)           ┆ 283                     │\n",
       "│ (덜렁)         ┆ 200                     │\n",
       "│ (퍽)           ┆ 186                     │\n",
       "└────────────────┴─────────────────────────┘"
      ]
     },
     "execution_count": 11,
     "metadata": {},
     "output_type": "execute_result"
    }
   ],
   "source": [
    "(\n",
    "    eda_dataset\n",
    "    .with_columns(pl.col(\"document\").str.extract(r\"(\\([가-힣]+\\))\", 1).alias(\"mask_pattern\"))\n",
    "    .group_by(\"mask_pattern\")\n",
    "    .len(\"pattern_occurence_count\")\n",
    "    .sort(by=\"pattern_occurence_count\", descending=True)\n",
    "    .head(10)\n",
    ")"
   ]
  },
  {
   "cell_type": "markdown",
   "id": "7e9fb296-1a91-4e30-b811-382e82cae8e1",
   "metadata": {},
   "source": [
    "이메일, 전화번호까지는 필터링해야할 정보의 태그인 것으로 이해되는데, `님`, `덜렁`부터는 그런 태그라고 보기 어렵다고 봐서 예시를 확인한다."
   ]
  },
  {
   "cell_type": "code",
   "execution_count": 12,
   "id": "97b47f28-f0a6-4cff-b28a-25ac58a0987e",
   "metadata": {},
   "outputs": [
    {
     "data": {
      "text/html": [
       "<div><style>\n",
       ".dataframe > thead > tr,\n",
       ".dataframe > tbody > tr {\n",
       "  text-align: right;\n",
       "  white-space: pre-wrap;\n",
       "}\n",
       "</style>\n",
       "<table border=\"1\" class=\"dataframe\"><thead><tr><th>document</th></tr><tr><td>str</td></tr></thead><tbody><tr><td>&quot;엽떡이라고 하면서 노래부를때 (이름)(님)에게 못생김이 붙어있네요, 그리고 마지막 반전이네 아빠 (반사회적용어)찌개에 (반사회…</td></tr><tr><td>&quot;저도 국민이(님)과 놀고싶내여 나도, 볼살도 만져보고 싶드아.&quot;</td></tr><tr><td>&quot;도티(님)야.하지마라 잠뜰(님)31.31.이제 32. 한달밖에 않남았다 32.32. (이름) 다음 크리스마스는 32.32.이제…</td></tr><tr><td>&quot;썸네일 미쳤는데 공파리파(님)이 이 썸네일을 싫어합니다.&quot;</td></tr><tr><td>&quot;도티(님)인주세에영상을 왜이렇게 만들어..((이름) 영상너무 재미이시어여)&quot;</td></tr></tbody></table></div>"
      ],
      "text/plain": [
       "┌─────────────────────────────────────────────────────────────────────────┐\n",
       "│ document                                                                │\n",
       "│ ---                                                                     │\n",
       "│ str                                                                     │\n",
       "╞═════════════════════════════════════════════════════════════════════════╡\n",
       "│ 엽떡이라고 하면서 노래부를때 (이름)(님)에게 못생김이 붙어있네요, 그리고 │\n",
       "│ 마지막 반전이네 아빠 (반사회적용어)찌개에 (반사회…                      │\n",
       "│ 저도 국민이(님)과 놀고싶내여 나도, 볼살도 만져보고 싶드아.              │\n",
       "│ 도티(님)야.하지마라 잠뜰(님)31.31.이제 32. 한달밖에 않남았다 32.32.     │\n",
       "│ (이름) 다음 크리스마스는 32.32.이제…                                    │\n",
       "│ 썸네일 미쳤는데 공파리파(님)이 이 썸네일을 싫어합니다.                  │\n",
       "│ 도티(님)인주세에영상을 왜이렇게 만들어..((이름) 영상너무 재미이시어여)  │\n",
       "└─────────────────────────────────────────────────────────────────────────┘"
      ]
     },
     "execution_count": 12,
     "metadata": {},
     "output_type": "execute_result"
    }
   ],
   "source": [
    "eda_dataset.filter(pl.col(\"document\").str.contains(\"\\(님\\)\")).head(5)"
   ]
  },
  {
   "cell_type": "code",
   "execution_count": 13,
   "id": "d7a7c77f-c20b-4dae-8493-0f5307710b1b",
   "metadata": {},
   "outputs": [
    {
     "data": {
      "text/html": [
       "<div><style>\n",
       ".dataframe > thead > tr,\n",
       ".dataframe > tbody > tr {\n",
       "  text-align: right;\n",
       "  white-space: pre-wrap;\n",
       "}\n",
       "</style>\n",
       "<table border=\"1\" class=\"dataframe\"><thead><tr><th>document</th></tr><tr><td>str</td></tr></thead><tbody><tr><td>&quot;자려고 보기시작했는데 형 썰이 너무 재밌어서 결국 끝까지 봐버렸잖아 형 책임져 사랑해 앙 (덜렁)&quot;</td></tr><tr><td>&quot;저는 진지한 분 좋아합니다(덜렁)&quot;</td></tr><tr><td>&quot;엥 랄까, 이거 완전 뜨억이 말투 아니냐 아무튼 (반사회적용어)텽보고 불평하지마라. 쒸이, (덜렁)&quot;</td></tr><tr><td>&quot;형 사랑해(덜렁)&quot;</td></tr><tr><td>&quot;그 더러운 손 치우시지. 가자 왁굳형 (덜렁)&quot;</td></tr></tbody></table></div>"
      ],
      "text/plain": [
       "┌─────────────────────────────────────────────────────────────────────────┐\n",
       "│ document                                                                │\n",
       "│ ---                                                                     │\n",
       "│ str                                                                     │\n",
       "╞═════════════════════════════════════════════════════════════════════════╡\n",
       "│ 자려고 보기시작했는데 형 썰이 너무 재밌어서 결국 끝까지 봐버렸잖아 형   │\n",
       "│ 책임져 사랑해 앙 (덜렁)                                                 │\n",
       "│ 저는 진지한 분 좋아합니다(덜렁)                                         │\n",
       "│ 엥 랄까, 이거 완전 뜨억이 말투 아니냐 아무튼 (반사회적용어)텽보고       │\n",
       "│ 불평하지마라. 쒸이, (덜렁)                                              │\n",
       "│ 형 사랑해(덜렁)                                                         │\n",
       "│ 그 더러운 손 치우시지. 가자 왁굳형 (덜렁)                               │\n",
       "└─────────────────────────────────────────────────────────────────────────┘"
      ]
     },
     "execution_count": 13,
     "metadata": {},
     "output_type": "execute_result"
    }
   ],
   "source": [
    "eda_dataset.filter(pl.col(\"document\").str.contains(\"\\(덜렁\\)\")).head(5)"
   ]
  },
  {
   "cell_type": "markdown",
   "id": "f2d08659-10d3-4c86-8ac8-e9c7a135df40",
   "metadata": {},
   "source": [
    "문서 정제 과정에서 생긴 태그가 아니라고 보고, 위에서 `(이름)`부터 `(전화번호)`까지 총 6개 태그가 포함된 문서들을 제거한다."
   ]
  },
  {
   "cell_type": "code",
   "execution_count": 14,
   "id": "c73146e6-198b-44d2-9e4f-8039cc0235e3",
   "metadata": {},
   "outputs": [
    {
     "name": "stdout",
     "output_type": "stream",
     "text": [
      "Number of documents in the corpus after filtering : 3,754,893\n"
     ]
    }
   ],
   "source": [
    "eda_dataset = eda_dataset.filter(~pl.col(\"document\").str.contains(r\"(\\(이름|비속어|반사회적용어|혐오표현|이메일|전화번호\\))\"))\n",
    "print(f\"Number of documents in the corpus after filtering : {eda_dataset.height:,}\")"
   ]
  },
  {
   "cell_type": "markdown",
   "id": "5c6953c7-6661-4d3d-8280-669d625895d0",
   "metadata": {},
   "source": [
    "### 문서 토큰 수 분포 확인"
   ]
  },
  {
   "cell_type": "markdown",
   "id": "a7d8a4e0-04cf-4172-965c-82c86fdf3ac5",
   "metadata": {},
   "source": [
    "한국어에서는 정확히 적용되지 않지만, 편의를 위해 어절의 수(`공백 수 + 1`)를 토큰 수라고 정의한다. 개요에는 원시데이터에 10억개 이상의 어절이 포함되어 있다고 적혀있었지만, 이 노트북의 기준에 따라 사용할만한 문서에 포함된 어절의 수는 2천만개 가량에 그친다는 것을 알 수 있다."
   ]
  },
  {
   "cell_type": "code",
   "execution_count": 15,
   "id": "caa16cc4-e970-474d-af81-07a8e35f43b6",
   "metadata": {},
   "outputs": [
    {
     "name": "stdout",
     "output_type": "stream",
     "text": [
      "Number of tokens in the corpus : 22,826,166\n"
     ]
    }
   ],
   "source": [
    "eda_dataset = eda_dataset.with_columns(pl.col(\"document\").str.replace(r\"\\s+\", \" \"))\n",
    "num_tokens = (\n",
    "    eda_dataset\n",
    "    .with_columns((pl.col(\"document\").str.count_matches(\" \") + 1).alias(\"num_tokens\"))\n",
    "    .select(\"num_tokens\")\n",
    ")\n",
    "print(f\"Number of tokens in the corpus : {num_tokens['num_tokens'].sum():,}\")"
   ]
  },
  {
   "cell_type": "markdown",
   "id": "1882a398-7391-43db-baa8-cc3e7065f49e",
   "metadata": {},
   "source": [
    "문서당 토큰 수 분포. 절반 이상이 4개 내외의 토큰으로 이루어진 짧은 문서임을 알 수 있다."
   ]
  },
  {
   "cell_type": "code",
   "execution_count": 16,
   "id": "b945e798-e39e-4be5-bf8c-eb04f62abc6f",
   "metadata": {},
   "outputs": [
    {
     "data": {
      "text/html": [
       "<div><style>\n",
       ".dataframe > thead > tr,\n",
       ".dataframe > tbody > tr {\n",
       "  text-align: right;\n",
       "  white-space: pre-wrap;\n",
       "}\n",
       "</style>\n",
       "<table border=\"1\" class=\"dataframe\"><thead><tr><th>min</th><th>q05</th><th>Q1</th><th>median</th><th>Q3</th><th>q95</th><th>max</th></tr><tr><td>u32</td><td>i32</td><td>i32</td><td>i32</td><td>i32</td><td>i32</td><td>u32</td></tr></thead><tbody><tr><td>2</td><td>2</td><td>3</td><td>4</td><td>7</td><td>16</td><td>1,440</td></tr></tbody></table></div>"
      ],
      "text/plain": [
       "┌─────┬─────┬─────┬────────┬─────┬─────┬───────┐\n",
       "│ min ┆ q05 ┆ Q1  ┆ median ┆ Q3  ┆ q95 ┆ max   │\n",
       "│ --- ┆ --- ┆ --- ┆ ---    ┆ --- ┆ --- ┆ ---   │\n",
       "│ u32 ┆ i32 ┆ i32 ┆ i32    ┆ i32 ┆ i32 ┆ u32   │\n",
       "╞═════╪═════╪═════╪════════╪═════╪═════╪═══════╡\n",
       "│ 2   ┆ 2   ┆ 3   ┆ 4      ┆ 7   ┆ 16  ┆ 1,440 │\n",
       "└─────┴─────┴─────┴────────┴─────┴─────┴───────┘"
      ]
     },
     "execution_count": 16,
     "metadata": {},
     "output_type": "execute_result"
    }
   ],
   "source": [
    "num_tokens.select(\n",
    "    pl.col(\"num_tokens\").min().alias(\"min\"),\n",
    "    pl.col(\"num_tokens\").quantile(0.05).cast(pl.Int32).alias(\"q05\"),\n",
    "    pl.col(\"num_tokens\").quantile(0.25).cast(pl.Int32).alias(\"Q1\"),\n",
    "    pl.col(\"num_tokens\").quantile(0.50).cast(pl.Int32).alias(\"median\"),\n",
    "    pl.col(\"num_tokens\").quantile(0.75).cast(pl.Int32).alias(\"Q3\"),\n",
    "    pl.col(\"num_tokens\").quantile(0.95).cast(pl.Int32).alias(\"q95\"),\n",
    "    pl.col(\"num_tokens\").max().alias(\"max\"),\n",
    ")"
   ]
  },
  {
   "cell_type": "markdown",
   "id": "8a9508ab-99ad-4c0e-bcd2-a8df9ef56fc0",
   "metadata": {},
   "source": [
    "## 데이터 저장"
   ]
  },
  {
   "cell_type": "markdown",
   "id": "8e2e72d3-61ee-403e-9d6f-3c89e690f3d5",
   "metadata": {},
   "source": [
    "EDA를 마친 corpus를 앞서 정의한 `result_dir`에 같은 다운받은 데이터셋과 동일한 이름으로 저장"
   ]
  },
  {
   "cell_type": "code",
   "execution_count": 17,
   "id": "9f5afa52-e480-4812-b6a2-a077680e5d2f",
   "metadata": {},
   "outputs": [],
   "source": [
    "result_path = result_dir.joinpath(f\"{archive_dir.name}.parquet\")\n",
    "eda_dataset.write_parquet(result_path)"
   ]
  },
  {
   "cell_type": "markdown",
   "id": "0e7808a4-4baa-4aa5-8711-7c53ca214824",
   "metadata": {},
   "source": [
    "로컬 디렉토리 정리"
   ]
  },
  {
   "cell_type": "code",
   "execution_count": 18,
   "id": "0ff14a9b-69c9-4071-98a7-af5e1e28e797",
   "metadata": {},
   "outputs": [
    {
     "data": {
      "text/plain": [
       "0"
      ]
     },
     "execution_count": 18,
     "metadata": {},
     "output_type": "execute_result"
    }
   ],
   "source": [
    "os.system(f\"rm -rf {archive_dir}\")"
   ]
  }
 ],
 "metadata": {
  "kernelspec": {
   "display_name": "Python 3 (ipykernel)",
   "language": "python",
   "name": "python3"
  },
  "language_info": {
   "codemirror_mode": {
    "name": "ipython",
    "version": 3
   },
   "file_extension": ".py",
   "mimetype": "text/x-python",
   "name": "python",
   "nbconvert_exporter": "python",
   "pygments_lexer": "ipython3",
   "version": "3.10.10"
  }
 },
 "nbformat": 4,
 "nbformat_minor": 5
}
