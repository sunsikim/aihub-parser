{
 "cells": [
  {
   "cell_type": "code",
   "execution_count": 1,
   "id": "ef18ca60-2601-4b0e-96a3-bfe1c82a65a2",
   "metadata": {},
   "outputs": [],
   "source": [
    "import os\n",
    "import pathlib\n",
    "import shutil\n",
    "import json\n",
    "import polars as pl\n",
    "from pprint import pprint\n",
    "from tqdm import tqdm\n",
    "\n",
    "pl.Config.load_from_file(\"pl_config.json\")\n",
    "pl.set_random_seed(999)"
   ]
  },
  {
   "cell_type": "markdown",
   "id": "4c10fade-fe4e-4057-92fa-e7e5ff0e5943",
   "metadata": {},
   "source": [
    "## 다운로드"
   ]
  },
  {
   "cell_type": "markdown",
   "id": "f545f605-d99b-4be4-ae9d-6c811de396a9",
   "metadata": {},
   "source": [
    "다운받을 데이터셋 정보 조회"
   ]
  },
  {
   "cell_type": "code",
   "execution_count": 2,
   "id": "04ac5194-5898-4fa1-8c9f-1de9d0eeeac3",
   "metadata": {},
   "outputs": [
    {
     "name": "stdout",
     "output_type": "stream",
     "text": [
      "==========================================\n",
      "aihubshell version 24.01.29 v0.3\n",
      "==========================================\n",
      "Fetching file tree structure...\n",
      "The contents are encoded in UTF-8 including Korean characters. \n",
      "If the following contents are not output normally, \n",
      "Please modify the character information of the OS. \n",
      "=================공지사항=================== \n",
      "========================================== \n",
      "\n",
      "    └─157.방송 콘텐츠 한-중, 한-일 번역 병렬 말뭉치 데이터\n",
      "        ├─02.저작도구\n",
      "        │  ├─저작도구 소스코드.zip | 1 MB | 61182\n",
      "        │  └─저작도구 설명서.zip | 687 MB | 61183\n",
      "        └─01.데이터\n",
      "            ├─1.Training\n",
      "            │  ├─라벨링데이터\n",
      "            │  │  ├─TL1.zip | 44 MB | 61236\n",
      "            │  │  ├─TL2.zip | 32 MB | 61237\n",
      "            │  │  ├─TL3.zip | 44 MB | 61238\n",
      "            │  │  └─TL4.zip | 37 MB | 61239\n",
      "            │  └─원천데이터\n",
      "            │      ├─TS1.zip | 44 MB | 61240\n",
      "            │      ├─TS2.zip | 32 MB | 61241\n",
      "            │      ├─TS3.zip | 44 MB | 61242\n",
      "            │      └─TS4.zip | 37 MB | 61243\n",
      "            └─2.Validation\n",
      "                ├─라벨링데이터\n",
      "                │  └─VL1.zip | 20 MB | 61244\n",
      "                └─원천데이터\n",
      "                    └─VS1.zip | 20 MB | 61245\n"
     ]
    }
   ],
   "source": [
    "!aihubshell -mode l -datasetkey 71263"
   ]
  },
  {
   "cell_type": "markdown",
   "id": "9a31ee30-082b-44c8-bfe4-cdc390b110b3",
   "metadata": {},
   "source": [
    "데이터 개요는 이 [페이지](https://aihub.or.kr/aihubdata/data/view.do?currMenu=115&topMenu=100&aihubDataSe=data&dataSetSn=71263)에서 찾아볼 수 있다. 라벨링데이터를 다운받아 분석을 진행한다."
   ]
  },
  {
   "cell_type": "code",
   "execution_count": 3,
   "id": "de458d64-f622-4770-ac45-cd08fb0960ba",
   "metadata": {},
   "outputs": [
    {
     "name": "stdout",
     "output_type": "stream",
     "text": [
      "==========================================\n",
      "aihubshell version 24.01.29 v0.3\n",
      "==========================================\n",
      "Authentication successful.\n",
      "  % Total    % Received % Xferd  Average Speed   Time    Time     Time  Current\n",
      "                                 Dload  Upload   Total   Spent    Left  Speed\n",
      "  0     0    0     0    0     0      0      0 --:--:-- --:--:-- --:--:--     0\n",
      "100  158M    0  158M    0     0  4537k      0 --:--:--  0:00:35 --:--:-- 6153k     0  3735k      0 --:--:--  0:00:14 --:--:-- 3497k:--  0:00:20 --:--:-- 4687k\n",
      "Request successful with HTTP status 200.\n",
      "Download successful.\n",
      "x 157.방송_콘텐츠_한-중,_한-일_번역_병렬_말뭉치_데이터/01.데이터/1.Training/라벨링데이터/TL4.zip.part0\n",
      "x 157.방송_콘텐츠_한-중,_한-일_번역_병렬_말뭉치_데이터/01.데이터/1.Training/라벨링데이터/TL3.zip.part0\n",
      "x 157.방송_콘텐츠_한-중,_한-일_번역_병렬_말뭉치_데이터/01.데이터/1.Training/라벨링데이터/TL2.zip.part0\n",
      "x 157.방송_콘텐츠_한-중,_한-일_번역_병렬_말뭉치_데이터/01.데이터/1.Training/라벨링데이터/TL1.zip.part0\n",
      "잠시 기다려 주세요 병합중 입니다. \n",
      "Merging TL1.zip in ./157.방송_콘텐츠_한-중,_한-일_번역_병렬_말뭉치_데이터/01.데이터/1.Training/라벨링데이터\n",
      "Merging TL2.zip in ./157.방송_콘텐츠_한-중,_한-일_번역_병렬_말뭉치_데이터/01.데이터/1.Training/라벨링데이터\n",
      "Merging TL3.zip in ./157.방송_콘텐츠_한-중,_한-일_번역_병렬_말뭉치_데이터/01.데이터/1.Training/라벨링데이터\n",
      "Merging TL4.zip in ./157.방송_콘텐츠_한-중,_한-일_번역_병렬_말뭉치_데이터/01.데이터/1.Training/라벨링데이터\n",
      "병합이 완료 되었습니다. \n"
     ]
    }
   ],
   "source": [
    "!aihubshell -mode d -datasetkey 71263 -filekey 61236,61237,61238,61239"
   ]
  },
  {
   "cell_type": "markdown",
   "id": "78cd7b4e-4c8d-401c-b88e-50c5b9d10f73",
   "metadata": {},
   "source": [
    "다운받은 데이터 디렉토리 및 결과 디렉토리 정의"
   ]
  },
  {
   "cell_type": "code",
   "execution_count": 4,
   "id": "42ff81c2-e562-4ffc-993b-f1d64af9d964",
   "metadata": {},
   "outputs": [],
   "source": [
    "archive_dir = [path for path in pathlib.Path(os.getcwd()).glob(\"157*\") if path.suffix != \".ipynb\"][0]\n",
    "result_dir = pathlib.Path(f\"{os.getcwd()}/aihub-datasets\")\n",
    "result_dir.mkdir(parents=True, exist_ok=True)"
   ]
  },
  {
   "cell_type": "markdown",
   "id": "62b43dc2-a81a-4512-b684-c2d36f39e83d",
   "metadata": {},
   "source": [
    "## 압축 해제 및 EDA"
   ]
  },
  {
   "cell_type": "markdown",
   "id": "fe1d95fd-13f3-448b-b0a7-07a1d178422c",
   "metadata": {},
   "source": [
    "데이터 압축파일 경로 정의"
   ]
  },
  {
   "cell_type": "code",
   "execution_count": 5,
   "id": "cb7ffd56-7455-4d97-9b9c-667eef67cd9f",
   "metadata": {},
   "outputs": [],
   "source": [
    "archive_paths = []\n",
    "for walk in os.walk(archive_dir):\n",
    "    current_path, folders, files = walk\n",
    "    for file_name in files:\n",
    "        if file_name.endswith(\".zip\") and current_path.endswith(\"라벨링데이터\"):\n",
    "            archive_paths.append(f\"{current_path}/{file_name}\")"
   ]
  },
  {
   "cell_type": "markdown",
   "id": "14ef67f8-55a9-481f-9964-27f893a3ae4d",
   "metadata": {},
   "source": [
    "압축 해제"
   ]
  },
  {
   "cell_type": "code",
   "execution_count": 6,
   "id": "eb48090c-959d-44ae-9dca-4a2641c42dfd",
   "metadata": {},
   "outputs": [],
   "source": [
    "for archive_path in archive_paths:\n",
    "    data_dir = pathlib.Path(archive_path.strip(\".zip\"))\n",
    "    shutil.unpack_archive(\n",
    "        filename=archive_path,\n",
    "        extract_dir=data_dir,\n",
    "        format=\"zip\",\n",
    "    )"
   ]
  },
  {
   "cell_type": "markdown",
   "id": "2cebd57a-fbde-45d8-a88a-fe1820cf71c3",
   "metadata": {},
   "source": [
    "각 데이터는 json 형태로 저장되어 있다."
   ]
  },
  {
   "cell_type": "code",
   "execution_count": 7,
   "id": "470aa678-5624-453a-8dd4-782aae7a7859",
   "metadata": {},
   "outputs": [
    {
     "name": "stdout",
     "output_type": "stream",
     "text": [
      "Number of files in dataset : 4\n"
     ]
    }
   ],
   "source": [
    "data_files = list(data_dir.parent.glob(\"*/*.json\"))\n",
    "print(f\"Number of files in dataset : {len(data_files):,}\")"
   ]
  },
  {
   "cell_type": "markdown",
   "id": "be6fce54-c581-4e2a-a0f9-d58f6d97245a",
   "metadata": {},
   "source": [
    "데이터 속성값들. 카테고리별로 한국어-일본어 문장 페어가 다른 특징들과 함께 포함되어 있는 것을 확인할 수 있다. \n",
    "\n",
    "* 이 데이터셋은 한-중 번역문도 포함하고 있기 때문에, 예를 들어 한-일 번역문만 사용하고자 한다면  (source_language, target_language)가 (ko, jp) 또는 (jp, ko)인 데이터만 사용해야 한다.\n",
    "* 알수없는 이유로 원문과 번역문 시작에 `>`가 포함되어 있는 경우가 많은데, 제거하는 전처리가 필요해 보인다.\n",
    "* ner 태그가 함께 붙어있는 경우도 있다."
   ]
  },
  {
   "cell_type": "code",
   "execution_count": 8,
   "id": "d7a26163-c9ac-4c3a-9abd-73dd514e742d",
   "metadata": {},
   "outputs": [
    {
     "name": "stdout",
     "output_type": "stream",
     "text": [
      "[{'data_set': '방송콘텐츠',\n",
      "  'domain': 'TV방송',\n",
      "  'file_name': '관찰예능_22_8000.xlsx',\n",
      "  'included_unknown_words': False,\n",
      "  'jp': '>ジャンフンさんみたいなご主人となかなか会えないですよ。',\n",
      "  'ko': '>우리 장훈 씨 같은 남편을 어디서 만나요.',\n",
      "  'ko_original': '>우리 장훈 씨 같은 남편을 어디서 만나요.',\n",
      "  'license': 'open',\n",
      "  'mt': '>ジャンフンさんみたいなご主人となかなか会えないですよ。',\n",
      "  'ner': {'tags': [{'position': '[4, 6]', 'tag': 'PERSON', 'value': '장훈'}],\n",
      "          'text': '>우리 <PERSON>장훈</PERSON> 씨 같은 남편을 어디서 만나요.'},\n",
      "  'sn': 'KVSMUS171V5501',\n",
      "  'source': 'SBS',\n",
      "  'source_language': 'ko',\n",
      "  'style': '구어체',\n",
      "  'subdomain': '관찰예능',\n",
      "  'target_language': 'jp',\n",
      "  'word_count_jp': 7,\n",
      "  'word_count_ko': 7,\n",
      "  'word_ratio': 1},\n",
      " {'data_set': '방송콘텐츠',\n",
      "  'domain': 'TV방송',\n",
      "  'file_name': '관찰예능_31_8000.xlsx',\n",
      "  'included_unknown_words': False,\n",
      "  'jp': '>いや、いや。',\n",
      "  'ko': '>아니, 아니.',\n",
      "  'ko_original': '>아니, 아니.',\n",
      "  'license': 'open',\n",
      "  'mt': 'ううん、ううん。',\n",
      "  'ner': None,\n",
      "  'sn': 'KVSMUS208EE7164',\n",
      "  'source': 'SBS',\n",
      "  'source_language': 'ko',\n",
      "  'style': '구어체',\n",
      "  'subdomain': '관찰예능',\n",
      "  'target_language': 'jp',\n",
      "  'word_count_jp': 2,\n",
      "  'word_count_ko': 2,\n",
      "  'word_ratio': 1},\n",
      " {'data_set': '방송콘텐츠',\n",
      "  'domain': 'TV방송',\n",
      "  'file_name': '리얼버라이어티_17_8000.xlsx',\n",
      "  'included_unknown_words': False,\n",
      "  'jp': '＞いくつ？',\n",
      "  'ko': '>몇이야?',\n",
      "  'ko_original': '>몇이야?',\n",
      "  'license': 'open',\n",
      "  'mt': 'いくつ？',\n",
      "  'ner': None,\n",
      "  'sn': 'KRVRNM555Q4950',\n",
      "  'source': 'SBS',\n",
      "  'source_language': 'ko',\n",
      "  'style': '구어체',\n",
      "  'subdomain': '리얼버라이어티예능',\n",
      "  'target_language': 'jp',\n",
      "  'word_count_jp': 1,\n",
      "  'word_count_ko': 1,\n",
      "  'word_ratio': 1}]\n"
     ]
    }
   ],
   "source": [
    "with open(data_files[0], \"r\") as file:\n",
    "    documents = json.load(file)\n",
    "pprint(documents[\"data\"][:3])"
   ]
  },
  {
   "cell_type": "markdown",
   "id": "0bee08fa-8d28-4c8c-9614-7e04ea37813b",
   "metadata": {},
   "source": [
    "전체 로드(첫 글자에 있는 `>`는 제거하는 전처리를 같이 적용했다)"
   ]
  },
  {
   "cell_type": "code",
   "execution_count": 9,
   "id": "1649f00c-89be-4987-9ec5-9d68304981ad",
   "metadata": {},
   "outputs": [
    {
     "name": "stderr",
     "output_type": "stream",
     "text": [
      "100%|█████████████████████████████████████████████| 4/4 [00:09<00:00,  2.28s/it]\n"
     ]
    }
   ],
   "source": [
    "corpus = []\n",
    "for data_file in tqdm(data_files):\n",
    "    with open(data_file, \"r\") as file:\n",
    "        documents = json.load(file)[\"data\"]\n",
    "    for document in documents:\n",
    "        source = document.pop(\"source_language\")\n",
    "        target = document.pop(\"target_language\")\n",
    "        if (source == \"ko\" and target == \"jp\") or (source == \"jp\" and target == \"ko\"):\n",
    "            korean = document.pop(\"ko\")\n",
    "            korean = korean[1:] if korean[0] in \">〉＞\" else korean\n",
    "            japanese = document.pop(\"jp\")\n",
    "            japanese = japanese[1:] if japanese[0] in \">〉＞\" else japanese\n",
    "            data = {\n",
    "                \"korean\": korean,\n",
    "                \"japanese\": japanese,\n",
    "                \"category_1st\": document.get(\"domain\", None),\n",
    "                \"category_2nd\": document.get(\"subdomain\", None),\n",
    "            }\n",
    "            corpus.append(data)"
   ]
  },
  {
   "cell_type": "markdown",
   "id": "926cdd14-f186-4ac3-a945-6dd3f281dd08",
   "metadata": {},
   "source": [
    "EDA를 위해 데이터프레임으로 변환"
   ]
  },
  {
   "cell_type": "code",
   "execution_count": 10,
   "id": "b05d1a37-70a9-48d0-82b4-48ae3c79bea2",
   "metadata": {},
   "outputs": [
    {
     "name": "stdout",
     "output_type": "stream",
     "text": [
      "Number of documents in the corpus : 960,000\n"
     ]
    }
   ],
   "source": [
    "eda_dataset = pl.DataFrame(corpus).sample(fraction=1, shuffle=True)\n",
    "print(f\"Number of documents in the corpus : {eda_dataset.height:,}\")"
   ]
  },
  {
   "cell_type": "markdown",
   "id": "dfd90bc8-0b20-471d-903f-9b8a2b150960",
   "metadata": {},
   "source": [
    "### 카테고리별 문서 수 분포"
   ]
  },
  {
   "cell_type": "markdown",
   "id": "a4c59f47-6315-4461-9f3e-18d07b55bb92",
   "metadata": {},
   "source": [
    "카테고리별 문서 수 분포는 아래와 같았다. 사용하려는 필요에 따라 이 중 특정 카테고리에서 발생한 문서들은 제외해도 무방할 듯 하다."
   ]
  },
  {
   "cell_type": "code",
   "execution_count": 11,
   "id": "2c978d8c-b318-4ad8-b0c3-98d3d1761c84",
   "metadata": {},
   "outputs": [
    {
     "data": {
      "text/html": [
       "<div><style>\n",
       ".dataframe > thead > tr,\n",
       ".dataframe > tbody > tr {\n",
       "  text-align: right;\n",
       "  white-space: pre-wrap;\n",
       "}\n",
       "</style>\n",
       "<table border=\"1\" class=\"dataframe\"><thead><tr><th>category_1st</th><th>category_2nd</th><th>num_documents</th></tr><tr><td>str</td><td>str</td><td>u32</td></tr></thead><tbody><tr><td>&quot;TV방송&quot;</td><td>&quot;관찰예능&quot;</td><td>279,846</td></tr><tr><td>&quot;TV방송&quot;</td><td>&quot;교양&quot;</td><td>159,913</td></tr><tr><td>&quot;TV방송&quot;</td><td>&quot;리얼버라이어티예능&quot;</td><td>160,241</td></tr><tr><td>&quot;라디오방송&quot;</td><td>&quot;경제&quot;</td><td>16,051</td></tr><tr><td>&quot;라디오방송&quot;</td><td>&quot;문화&quot;</td><td>144,077</td></tr><tr><td>&quot;라디오방송&quot;</td><td>&quot;사회&quot;</td><td>55,873</td></tr><tr><td>&quot;라디오방송&quot;</td><td>&quot;일상&quot;</td><td>143,999</td></tr></tbody></table></div>"
      ],
      "text/plain": [
       "┌──────────────┬────────────────────┬───────────────┐\n",
       "│ category_1st ┆ category_2nd       ┆ num_documents │\n",
       "│ ---          ┆ ---                ┆ ---           │\n",
       "│ str          ┆ str                ┆ u32           │\n",
       "╞══════════════╪════════════════════╪═══════════════╡\n",
       "│ TV방송       ┆ 관찰예능           ┆ 279,846       │\n",
       "│ TV방송       ┆ 교양               ┆ 159,913       │\n",
       "│ TV방송       ┆ 리얼버라이어티예능 ┆ 160,241       │\n",
       "│ 라디오방송   ┆ 경제               ┆ 16,051        │\n",
       "│ 라디오방송   ┆ 문화               ┆ 144,077       │\n",
       "│ 라디오방송   ┆ 사회               ┆ 55,873        │\n",
       "│ 라디오방송   ┆ 일상               ┆ 143,999       │\n",
       "└──────────────┴────────────────────┴───────────────┘"
      ]
     },
     "execution_count": 11,
     "metadata": {},
     "output_type": "execute_result"
    }
   ],
   "source": [
    "(\n",
    "    eda_dataset\n",
    "    .group_by([\"category_1st\", \"category_2nd\"])\n",
    "    .len(\"num_documents\")\n",
    "    .sort(by=[\"category_1st\", \"category_2nd\"])\n",
    ")"
   ]
  },
  {
   "cell_type": "markdown",
   "id": "26956c88-90d3-42b3-bd88-2c94c36d6dd8",
   "metadata": {},
   "source": [
    "### 문서 토큰 수 분포 확인"
   ]
  },
  {
   "cell_type": "markdown",
   "id": "e85cae9d-e4d6-412a-9e99-47289ebd9c70",
   "metadata": {},
   "source": [
    "한국어에서는 정확히 적용되지 않지만, 편의를 위해 어절의 수(`공백 수 + 1`)를 토큰 수라고 정의한다. 한국어 토큰이 약 530만개 가량 포함된 corpus임을 확인했다."
   ]
  },
  {
   "cell_type": "code",
   "execution_count": 12,
   "id": "caa16cc4-e970-474d-af81-07a8e35f43b6",
   "metadata": {},
   "outputs": [
    {
     "name": "stdout",
     "output_type": "stream",
     "text": [
      "Number of tokens in the Korean corpus : 5,228,298\n"
     ]
    }
   ],
   "source": [
    "eda_dataset = eda_dataset.with_columns(pl.col(\"korean\").str.replace(r\"\\s+\", \" \"))\n",
    "num_tokens = (\n",
    "    eda_dataset\n",
    "    .with_columns((pl.col(\"korean\").str.count_matches(\" \") + 1).alias(\"num_tokens\"))\n",
    "    .select(\"num_tokens\")\n",
    ")\n",
    "print(f\"Number of tokens in the Korean corpus : {num_tokens['num_tokens'].sum():,}\")"
   ]
  },
  {
   "cell_type": "markdown",
   "id": "c911ee81-bb8b-486a-94a4-1aac0b238a7c",
   "metadata": {},
   "source": [
    "문서당 토큰 수 분포"
   ]
  },
  {
   "cell_type": "code",
   "execution_count": 13,
   "id": "b945e798-e39e-4be5-bf8c-eb04f62abc6f",
   "metadata": {},
   "outputs": [
    {
     "data": {
      "text/html": [
       "<div><style>\n",
       ".dataframe > thead > tr,\n",
       ".dataframe > tbody > tr {\n",
       "  text-align: right;\n",
       "  white-space: pre-wrap;\n",
       "}\n",
       "</style>\n",
       "<table border=\"1\" class=\"dataframe\"><thead><tr><th>min</th><th>q05</th><th>Q1</th><th>median</th><th>Q3</th><th>q95</th><th>max</th></tr><tr><td>u32</td><td>i32</td><td>i32</td><td>i32</td><td>i32</td><td>i32</td><td>u32</td></tr></thead><tbody><tr><td>1</td><td>1</td><td>2</td><td>4</td><td>7</td><td>16</td><td>136</td></tr></tbody></table></div>"
      ],
      "text/plain": [
       "┌─────┬─────┬─────┬────────┬─────┬─────┬─────┐\n",
       "│ min ┆ q05 ┆ Q1  ┆ median ┆ Q3  ┆ q95 ┆ max │\n",
       "│ --- ┆ --- ┆ --- ┆ ---    ┆ --- ┆ --- ┆ --- │\n",
       "│ u32 ┆ i32 ┆ i32 ┆ i32    ┆ i32 ┆ i32 ┆ u32 │\n",
       "╞═════╪═════╪═════╪════════╪═════╪═════╪═════╡\n",
       "│ 1   ┆ 1   ┆ 2   ┆ 4      ┆ 7   ┆ 16  ┆ 136 │\n",
       "└─────┴─────┴─────┴────────┴─────┴─────┴─────┘"
      ]
     },
     "execution_count": 13,
     "metadata": {},
     "output_type": "execute_result"
    }
   ],
   "source": [
    "num_tokens.select(\n",
    "    pl.col(\"num_tokens\").min().alias(\"min\"),\n",
    "    pl.col(\"num_tokens\").quantile(0.05).cast(pl.Int32).alias(\"q05\"),\n",
    "    pl.col(\"num_tokens\").quantile(0.25).cast(pl.Int32).alias(\"Q1\"),\n",
    "    pl.col(\"num_tokens\").quantile(0.50).cast(pl.Int32).alias(\"median\"),\n",
    "    pl.col(\"num_tokens\").quantile(0.75).cast(pl.Int32).alias(\"Q3\"),\n",
    "    pl.col(\"num_tokens\").quantile(0.95).cast(pl.Int32).alias(\"q95\"),\n",
    "    pl.col(\"num_tokens\").max().alias(\"max\"),\n",
    ")"
   ]
  },
  {
   "cell_type": "markdown",
   "id": "94efd63b-6fa6-424e-ad1c-c2afbd663cea",
   "metadata": {},
   "source": [
    "토큰 한개짜리 문장들도 outlier라기보단 구어체에서 흔히 나타날 수 있는 문장임을 확인"
   ]
  },
  {
   "cell_type": "code",
   "execution_count": 14,
   "id": "804cebbc-3fa5-4ba8-986c-09df644b4c9c",
   "metadata": {},
   "outputs": [
    {
     "data": {
      "text/html": [
       "<div><style>\n",
       ".dataframe > thead > tr,\n",
       ".dataframe > tbody > tr {\n",
       "  text-align: right;\n",
       "  white-space: pre-wrap;\n",
       "}\n",
       "</style>\n",
       "<table border=\"1\" class=\"dataframe\"><thead><tr><th>korean</th><th>japanese</th></tr><tr><td>str</td><td>str</td></tr></thead><tbody><tr><td>&quot;진짜요?&quot;</td><td>&quot;本当ですか？&quot;</td></tr><tr><td>&quot;대박이다.&quot;</td><td>&quot;すごい。&quot;</td></tr><tr><td>&quot;뭐야?&quot;</td><td>&quot;何？&quot;</td></tr><tr><td>&quot;괜찮냐?&quot;</td><td>&quot;大丈夫？&quot;</td></tr><tr><td>&quot;너!&quot;</td><td>&quot;君！&quot;</td></tr><tr><td>&quot;이야!&quot;</td><td>&quot;すごい！&quot;</td></tr><tr><td>&quot;괜찮아?&quot;</td><td>&quot;大丈夫?&quot;</td></tr><tr><td>&quot;소울아~&quot;</td><td>&quot;ソウルちゃん~&quot;</td></tr><tr><td>&quot;그래.&quot;</td><td>&quot;そうだね。&quot;</td></tr><tr><td>&quot;그렇네요.&quot;</td><td>&quot;そうですね。&quot;</td></tr></tbody></table></div>"
      ],
      "text/plain": [
       "┌───────────┬───────────────┐\n",
       "│ korean    ┆ japanese      │\n",
       "│ ---       ┆ ---           │\n",
       "│ str       ┆ str           │\n",
       "╞═══════════╪═══════════════╡\n",
       "│ 진짜요?   ┆ 本当ですか？  │\n",
       "│ 대박이다. ┆ すごい。      │\n",
       "│ 뭐야?     ┆ 何？          │\n",
       "│ 괜찮냐?   ┆ 大丈夫？      │\n",
       "│ 너!       ┆ 君！          │\n",
       "│ 이야!     ┆ すごい！      │\n",
       "│ 괜찮아?   ┆ 大丈夫?       │\n",
       "│ 소울아~   ┆ ソウルちゃん~ │\n",
       "│ 그래.     ┆ そうだね。    │\n",
       "│ 그렇네요. ┆ そうですね。  │\n",
       "└───────────┴───────────────┘"
      ]
     },
     "execution_count": 14,
     "metadata": {},
     "output_type": "execute_result"
    }
   ],
   "source": [
    "(\n",
    "    eda_dataset\n",
    "    .with_columns((pl.col(\"korean\").str.count_matches(\" \") + 1).alias(\"num_tokens\")).filter(pl.col(\"num_tokens\") == 1)\n",
    "    .sample(10)\n",
    "    .select([\"korean\", \"japanese\"])\n",
    ")"
   ]
  },
  {
   "cell_type": "markdown",
   "id": "4cd793da-ddbf-4f62-bfa1-b61c6b63b57b",
   "metadata": {},
   "source": [
    "### 마스킹 토큰 존재 여부 확인"
   ]
  },
  {
   "cell_type": "markdown",
   "id": "eff4bf24-8c8f-486d-91a3-a2073929561b",
   "metadata": {},
   "source": [
    "다른 AI 허브 데이터같이 비식별화가 필요한 텍스트에 마스크가 적용되어 있는지 확인했다. 없다."
   ]
  },
  {
   "cell_type": "code",
   "execution_count": 15,
   "id": "0bfd774a-f131-4cd1-b32f-cee29fee61f4",
   "metadata": {},
   "outputs": [
    {
     "data": {
      "text/html": [
       "<div><style>\n",
       ".dataframe > thead > tr,\n",
       ".dataframe > tbody > tr {\n",
       "  text-align: right;\n",
       "  white-space: pre-wrap;\n",
       "}\n",
       "</style>\n",
       "<table border=\"1\" class=\"dataframe\"><thead><tr><th>mask_pattern</th><th>pattern_count</th></tr><tr><td>str</td><td>u32</td></tr></thead><tbody><tr><td>&quot;(목)&quot;</td><td>121</td></tr><tr><td>&quot;(토)&quot;</td><td>77</td></tr><tr><td>&quot;(웃음)&quot;</td><td>66</td></tr><tr><td>&quot;(금)&quot;</td><td>43</td></tr><tr><td>&quot;(월)&quot;</td><td>19</td></tr><tr><td>&quot;(일)&quot;</td><td>17</td></tr><tr><td>&quot;(화)&quot;</td><td>13</td></tr><tr><td>&quot;(수)&quot;</td><td>12</td></tr><tr><td>&quot;(명사)&quot;</td><td>7</td></tr><tr><td>&quot;(방탄소년단)&quot;</td><td>7</td></tr></tbody></table></div>"
      ],
      "text/plain": [
       "┌──────────────┬───────────────┐\n",
       "│ mask_pattern ┆ pattern_count │\n",
       "│ ---          ┆ ---           │\n",
       "│ str          ┆ u32           │\n",
       "╞══════════════╪═══════════════╡\n",
       "│ (목)         ┆ 121           │\n",
       "│ (토)         ┆ 77            │\n",
       "│ (웃음)       ┆ 66            │\n",
       "│ (금)         ┆ 43            │\n",
       "│ (월)         ┆ 19            │\n",
       "│ (일)         ┆ 17            │\n",
       "│ (화)         ┆ 13            │\n",
       "│ (수)         ┆ 12            │\n",
       "│ (명사)       ┆ 7             │\n",
       "│ (방탄소년단) ┆ 7             │\n",
       "└──────────────┴───────────────┘"
      ]
     },
     "execution_count": 15,
     "metadata": {},
     "output_type": "execute_result"
    }
   ],
   "source": [
    "(\n",
    "    eda_dataset\n",
    "    .with_columns(pl.col(\"korean\").str.extract(r\"(\\([가-힣]+\\))\").alias(\"mask_pattern\"))\n",
    "    .filter(pl.col(\"mask_pattern\").is_not_null())\n",
    "    .group_by(\"mask_pattern\")\n",
    "    .len(\"pattern_count\")\n",
    "    .sort(by=\"pattern_count\", descending=True)\n",
    "    .head(10)\n",
    ")"
   ]
  },
  {
   "cell_type": "markdown",
   "id": "eb2d4ac9-4b7a-490f-bf26-9b4962cceb13",
   "metadata": {},
   "source": [
    "### 한국어에 일본어 텍스트가 포함된 경우"
   ]
  },
  {
   "cell_type": "markdown",
   "id": "a8dae618-052e-4d91-a4c4-1f18feb36799",
   "metadata": {},
   "source": [
    "하지만 한국어 안에 일본어가 포함된 데이터가 일부 있었다."
   ]
  },
  {
   "cell_type": "code",
   "execution_count": 16,
   "id": "8d4df0c1-afb0-435e-9eac-8d1ba92bf73d",
   "metadata": {},
   "outputs": [
    {
     "data": {
      "text/html": [
       "<div><style>\n",
       ".dataframe > thead > tr,\n",
       ".dataframe > tbody > tr {\n",
       "  text-align: right;\n",
       "  white-space: pre-wrap;\n",
       "}\n",
       "</style>\n",
       "<table border=\"1\" class=\"dataframe\"><thead><tr><th>jp_pattern</th><th>pattern_count</th></tr><tr><td>str</td><td>u32</td></tr></thead><tbody><tr><td>&quot;(五友歌)&quot;</td><td>3</td></tr><tr><td>&quot;(子)&quot;</td><td>2</td></tr><tr><td>&quot;(ミニョンヌ)&quot;</td><td>2</td></tr><tr><td>&quot;(空)&quot;</td><td>2</td></tr><tr><td>&quot;(春分)&quot;</td><td>2</td></tr><tr><td>&quot;(川流)&quot;</td><td>2</td></tr><tr><td>&quot;(藥水)&quot;</td><td>1</td></tr><tr><td>&quot;(どうぞ)&quot;</td><td>1</td></tr><tr><td>&quot;(頭)&quot;</td><td>1</td></tr><tr><td>&quot;(金色夜叉)&quot;</td><td>1</td></tr></tbody></table></div>"
      ],
      "text/plain": [
       "┌──────────────┬───────────────┐\n",
       "│ jp_pattern   ┆ pattern_count │\n",
       "│ ---          ┆ ---           │\n",
       "│ str          ┆ u32           │\n",
       "╞══════════════╪═══════════════╡\n",
       "│ (五友歌)     ┆ 3             │\n",
       "│ (子)         ┆ 2             │\n",
       "│ (ミニョンヌ) ┆ 2             │\n",
       "│ (空)         ┆ 2             │\n",
       "│ (春分)       ┆ 2             │\n",
       "│ (川流)       ┆ 2             │\n",
       "│ (藥水)       ┆ 1             │\n",
       "│ (どうぞ)     ┆ 1             │\n",
       "│ (頭)         ┆ 1             │\n",
       "│ (金色夜叉)   ┆ 1             │\n",
       "└──────────────┴───────────────┘"
      ]
     },
     "execution_count": 16,
     "metadata": {},
     "output_type": "execute_result"
    }
   ],
   "source": [
    "(\n",
    "    eda_dataset\n",
    "    .with_columns(pl.col(\"korean\").str.extract(r\"(\\([一-龯ぁ-んァ-ン]+\\))\").alias(\"jp_pattern\"))\n",
    "    .filter(pl.col(\"jp_pattern\").is_not_null())\n",
    "    .group_by(\"jp_pattern\")\n",
    "    .len(\"pattern_count\")\n",
    "    .sort(by=\"pattern_count\", descending=True)\n",
    "    .head(10)\n",
    ")"
   ]
  },
  {
   "cell_type": "markdown",
   "id": "2b05bc94-6eca-4dea-864f-3449961b6401",
   "metadata": {},
   "source": [
    "이런 패턴은 라디오방송 카테고리에서만 나타나는데, 이 카테고리는 일 -> 한 번역 텍스트에만 포함되어 있다. 이런 패턴이 주로 일 -> 한 번역 과정에서 나타나는 패턴임을 알 수 있다."
   ]
  },
  {
   "cell_type": "code",
   "execution_count": 20,
   "id": "3db28f10-0424-47fb-958e-e54340c785e9",
   "metadata": {},
   "outputs": [
    {
     "data": {
      "text/html": [
       "<div><style>\n",
       ".dataframe > thead > tr,\n",
       ".dataframe > tbody > tr {\n",
       "  text-align: right;\n",
       "  white-space: pre-wrap;\n",
       "}\n",
       "</style>\n",
       "<table border=\"1\" class=\"dataframe\"><thead><tr><th>category_1st</th><th>len</th></tr><tr><td>str</td><td>u32</td></tr></thead><tbody><tr><td>&quot;라디오방송&quot;</td><td>44</td></tr></tbody></table></div>"
      ],
      "text/plain": [
       "┌──────────────┬─────┐\n",
       "│ category_1st ┆ len │\n",
       "│ ---          ┆ --- │\n",
       "│ str          ┆ u32 │\n",
       "╞══════════════╪═════╡\n",
       "│ 라디오방송   ┆ 44  │\n",
       "└──────────────┴─────┘"
      ]
     },
     "execution_count": 20,
     "metadata": {},
     "output_type": "execute_result"
    }
   ],
   "source": [
    "(\n",
    "    eda_dataset\n",
    "    .with_columns(pl.col(\"korean\").str.extract(r\"(\\([一-龯ぁ-んァ-ン]+\\))\").alias(\"jp_pattern\"))\n",
    "    .filter(pl.col(\"jp_pattern\").is_not_null())\n",
    "    .group_by(\"category_1st\").len()\n",
    ")"
   ]
  },
  {
   "cell_type": "markdown",
   "id": "ee568398-0214-406f-8252-bae84de0d670",
   "metadata": {},
   "source": [
    "한국어에는 한국어만 포함시키기 위해 이런 패턴은 전부 제거하는 전처리를 적용했다."
   ]
  },
  {
   "cell_type": "code",
   "execution_count": 21,
   "id": "6fce9f8e-e4fb-442b-b1f5-9f5f228e2305",
   "metadata": {},
   "outputs": [],
   "source": [
    "eda_dataset = eda_dataset.with_columns(pl.col(\"korean\").str.replace(r\"(\\([一-龯ぁ-んァ-ン]+\\))\", \"\"))"
   ]
  },
  {
   "cell_type": "markdown",
   "id": "8a9508ab-99ad-4c0e-bcd2-a8df9ef56fc0",
   "metadata": {},
   "source": [
    "## 데이터 저장"
   ]
  },
  {
   "cell_type": "markdown",
   "id": "8e2e72d3-61ee-403e-9d6f-3c89e690f3d5",
   "metadata": {},
   "source": [
    "EDA를 마친 corpus를 앞서 정의한 `result_dir`에 같은 다운받은 데이터셋과 동일한 이름으로 저장"
   ]
  },
  {
   "cell_type": "code",
   "execution_count": 23,
   "id": "9f5afa52-e480-4812-b6a2-a077680e5d2f",
   "metadata": {},
   "outputs": [],
   "source": [
    "result_path = result_dir.joinpath(f\"{archive_dir.name}.parquet\")\n",
    "eda_dataset.write_parquet(result_path)"
   ]
  },
  {
   "cell_type": "markdown",
   "id": "0e7808a4-4baa-4aa5-8711-7c53ca214824",
   "metadata": {},
   "source": [
    "로컬 디렉토리 정리"
   ]
  },
  {
   "cell_type": "code",
   "execution_count": 24,
   "id": "0ff14a9b-69c9-4071-98a7-af5e1e28e797",
   "metadata": {},
   "outputs": [
    {
     "data": {
      "text/plain": [
       "0"
      ]
     },
     "execution_count": 24,
     "metadata": {},
     "output_type": "execute_result"
    }
   ],
   "source": [
    "os.system(f\"rm -rf {archive_dir}\")"
   ]
  },
  {
   "cell_type": "markdown",
   "id": "a06e5bd9-895f-42e7-8ab3-d41d25573db8",
   "metadata": {},
   "source": [
    "저장된 데이터셋에는 한국어 문장(`korean`), 이에 대응하는 일본어 문장(`japanese`)과 함께 해당 문장의 카테고리가 저장되어 있다."
   ]
  },
  {
   "cell_type": "code",
   "execution_count": 25,
   "id": "779a0167-586b-4d85-862b-7e43b9c50d47",
   "metadata": {},
   "outputs": [
    {
     "data": {
      "text/html": [
       "<div><style>\n",
       ".dataframe > thead > tr,\n",
       ".dataframe > tbody > tr {\n",
       "  text-align: right;\n",
       "  white-space: pre-wrap;\n",
       "}\n",
       "</style>\n",
       "<table border=\"1\" class=\"dataframe\"><thead><tr><th>korean</th><th>japanese</th><th>category_1st</th><th>category_2nd</th></tr><tr><td>str</td><td>str</td><td>str</td><td>str</td></tr></thead><tbody><tr><td>&quot;그렇군요.&quot;</td><td>&quot;なるほどね、&quot;</td><td>&quot;라디오방송&quot;</td><td>&quot;문화&quot;</td></tr><tr><td>&quot;신경림씨는 1935년 충북의 농촌에서 태어났습니다.&quot;</td><td>&quot;申庚林さんは、1935年、忠清北道の農村に生まれました。&quot;</td><td>&quot;라디오방송&quot;</td><td>&quot;문화&quot;</td></tr><tr><td>&quot;무드살롱 연주곡으로 &#x27;한강 블루스&#x27;입니다.&quot;</td><td>&quot;ムードサロンの演奏曲で「漢江ブルース」です。&quot;</td><td>&quot;라디오방송&quot;</td><td>&quot;일상&quot;</td></tr><tr><td>&quot;아줌마로서는요.&quot;</td><td>&quot;アジュンマとしてはね。&quot;</td><td>&quot;라디오방송&quot;</td><td>&quot;경제&quot;</td></tr><tr><td>&quot;자기 남편은 나라를 위해 당당하게 목숨을 바쳤다고 하더랍니다.&quot;</td><td>&quot;自分の夫は国のために堂々と命を投げ出したと話していたそうです。&quot;</td><td>&quot;라디오방송&quot;</td><td>&quot;사회&quot;</td></tr><tr><td>&quot;나 지금 약간 저기 내 얼굴에 피골이 상접해진 게 느껴져, 지금.&quot;</td><td>&quot;俺今お腹と背中がくっつきそうだよ。&quot;</td><td>&quot;TV방송&quot;</td><td>&quot;교양&quot;</td></tr><tr><td>&quot;살짝 가져가면.&quot;</td><td>&quot;そっと持っていったら。&quot;</td><td>&quot;라디오방송&quot;</td><td>&quot;일상&quot;</td></tr><tr><td>&quot;피아노 학원, 태권도 학원 어?&quot;</td><td>&quot;ピアノ教室、テコンドー道場。&quot;</td><td>&quot;TV방송&quot;</td><td>&quot;관찰예능&quot;</td></tr><tr><td>&quot;한탄강이래.&quot;</td><td>&quot;漢灘江だって。&quot;</td><td>&quot;TV방송&quot;</td><td>&quot;리얼버라이어티예능&quot;</td></tr><tr><td>&quot;남도의 잡가는 전라남도 지방에서 전해오는 노래인데요.&quot;</td><td>&quot;南道の雑歌は、全羅南道地方に伝わる歌です。&quot;</td><td>&quot;라디오방송&quot;</td><td>&quot;문화&quot;</td></tr></tbody></table></div>"
      ],
      "text/plain": [
       "┌───────────────────────────────┬──────────────────────────────┬──────────────┬────────────────────┐\n",
       "│ korean                        ┆ japanese                     ┆ category_1st ┆ category_2nd       │\n",
       "│ ---                           ┆ ---                          ┆ ---          ┆ ---                │\n",
       "│ str                           ┆ str                          ┆ str          ┆ str                │\n",
       "╞═══════════════════════════════╪══════════════════════════════╪══════════════╪════════════════════╡\n",
       "│ 그렇군요.                     ┆ なるほどね、                 ┆ 라디오방송   ┆ 문화               │\n",
       "│ 신경림씨는 1935년 충북의      ┆ 申庚林さんは、1935年、忠清北 ┆ 라디오방송   ┆ 문화               │\n",
       "│ 농촌에서 태어났습니다.        ┆ 道の農村に生まれました。     ┆              ┆                    │\n",
       "│ 무드살롱 연주곡으로 '한강     ┆ ムードサロンの演奏曲で「漢江 ┆ 라디오방송   ┆ 일상               │\n",
       "│ 블루스'입니다.                ┆ ブルース」です。             ┆              ┆                    │\n",
       "│ 아줌마로서는요.               ┆ アジュンマとしてはね。       ┆ 라디오방송   ┆ 경제               │\n",
       "│ 자기 남편은 나라를 위해       ┆ 自分の夫は国のために堂々と命 ┆ 라디오방송   ┆ 사회               │\n",
       "│ 당당하게 목숨을 바쳤다고      ┆ を投げ出したと話していたそう ┆              ┆                    │\n",
       "│ 하더랍니다.                   ┆ です。                       ┆              ┆                    │\n",
       "│ 나 지금 약간 저기 내 얼굴에   ┆ 俺今お腹と背中がくっつきそう ┆ TV방송       ┆ 교양               │\n",
       "│ 피골이 상접해진 게 느껴져,    ┆ だよ。                       ┆              ┆                    │\n",
       "│ 지금.                         ┆                              ┆              ┆                    │\n",
       "│ 살짝 가져가면.                ┆ そっと持っていったら。       ┆ 라디오방송   ┆ 일상               │\n",
       "│ 피아노 학원, 태권도 학원 어?  ┆ ピアノ教室、テコンドー道場。 ┆ TV방송       ┆ 관찰예능           │\n",
       "│ 한탄강이래.                   ┆ 漢灘江だって。               ┆ TV방송       ┆ 리얼버라이어티예능 │\n",
       "│ 남도의 잡가는 전라남도        ┆ 南道の雑歌は、全羅南道地方に ┆ 라디오방송   ┆ 문화               │\n",
       "│ 지방에서 전해오는 노래인데요. ┆ 伝わる歌です。               ┆              ┆                    │\n",
       "└───────────────────────────────┴──────────────────────────────┴──────────────┴────────────────────┘"
      ]
     },
     "execution_count": 25,
     "metadata": {},
     "output_type": "execute_result"
    }
   ],
   "source": [
    "eda_dataset.head(10)"
   ]
  }
 ],
 "metadata": {
  "kernelspec": {
   "display_name": "Python 3 (ipykernel)",
   "language": "python",
   "name": "python3"
  },
  "language_info": {
   "codemirror_mode": {
    "name": "ipython",
    "version": 3
   },
   "file_extension": ".py",
   "mimetype": "text/x-python",
   "name": "python",
   "nbconvert_exporter": "python",
   "pygments_lexer": "ipython3",
   "version": "3.10.10"
  }
 },
 "nbformat": 4,
 "nbformat_minor": 5
}
