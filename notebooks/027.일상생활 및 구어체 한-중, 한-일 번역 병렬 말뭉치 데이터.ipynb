{
 "cells": [
  {
   "cell_type": "code",
   "execution_count": 1,
   "id": "ef18ca60-2601-4b0e-96a3-bfe1c82a65a2",
   "metadata": {},
   "outputs": [],
   "source": [
    "import os\n",
    "import pathlib\n",
    "import shutil\n",
    "import json\n",
    "import polars as pl\n",
    "from pprint import pprint\n",
    "from tqdm import tqdm\n",
    "\n",
    "pl.Config.load_from_file(\"pl_config.json\")\n",
    "pl.set_random_seed(999)"
   ]
  },
  {
   "cell_type": "markdown",
   "id": "4c10fade-fe4e-4057-92fa-e7e5ff0e5943",
   "metadata": {},
   "source": [
    "## 다운로드"
   ]
  },
  {
   "cell_type": "markdown",
   "id": "f545f605-d99b-4be4-ae9d-6c811de396a9",
   "metadata": {},
   "source": [
    "다운받을 데이터셋 정보 조회"
   ]
  },
  {
   "cell_type": "code",
   "execution_count": 2,
   "id": "04ac5194-5898-4fa1-8c9f-1de9d0eeeac3",
   "metadata": {},
   "outputs": [
    {
     "name": "stdout",
     "output_type": "stream",
     "text": [
      "==========================================\n",
      "aihubshell version 24.01.29 v0.3\n",
      "==========================================\n",
      "Fetching file tree structure...\n",
      "The contents are encoded in UTF-8 including Korean characters. \n",
      "If the following contents are not output normally, \n",
      "Please modify the character information of the OS. \n",
      "=================공지사항=================== \n",
      "========================================== \n",
      "\n",
      "    └─027.일상생활 및 구어체 한-중, 한-일 번역 병렬 말뭉치 데이터\n",
      "        ├─01.데이터\n",
      "        │  ├─2_Validation\n",
      "        │  │  ├─원천데이터\n",
      "        │  │  │  └─VS1.zip | 8 MB | 62136\n",
      "        │  │  └─라벨링데이터\n",
      "        │  │      └─VL1.zip | 50 MB | 62135\n",
      "        │  └─1_Training\n",
      "        │      ├─라벨링데이터\n",
      "        │      │  └─TL1.zip | 410 MB | 62133\n",
      "        │      └─원천데이터\n",
      "        │          └─TS1.zip | 67 MB | 62134\n",
      "        └─02.저작도구\n",
      "            ├─저작도구 소스코드.zip | 723 MB | 59162\n",
      "            └─저작도구 설명서.zip | 4 MB | 59163\n"
     ]
    }
   ],
   "source": [
    "!aihubshell -mode l -datasetkey 546"
   ]
  },
  {
   "cell_type": "markdown",
   "id": "9a31ee30-082b-44c8-bfe4-cdc390b110b3",
   "metadata": {},
   "source": [
    "데이터 개요는 이 [페이지](https://aihub.or.kr/aihubdata/data/view.do?currMenu=115&topMenu=100&aihubDataSe=data&dataSetSn=546)에서 찾아볼 수 있다. 라벨링데이터를 다운받아 분석을 진행한다."
   ]
  },
  {
   "cell_type": "code",
   "execution_count": 3,
   "id": "de458d64-f622-4770-ac45-cd08fb0960ba",
   "metadata": {},
   "outputs": [
    {
     "name": "stdout",
     "output_type": "stream",
     "text": [
      "==========================================\n",
      "aihubshell version 24.01.29 v0.3\n",
      "==========================================\n",
      "Authentication successful.\n",
      "  % Total    % Received % Xferd  Average Speed   Time    Time     Time  Current\n",
      "                                 Dload  Upload   Total   Spent    Left  Speed\n",
      "  0     0    0     0    0     0      0      0 --:--:--  0:00:03 --:--:--     00\n",
      "100  409M    0  409M    0     0  5321k      0 --:--:--  0:01:18 --:--:-- 7483k635k      0 --:--:--  0:00:26 --:--:-- 6907k0:01:08 --:--:-- 4773k\n",
      "Request successful with HTTP status 200.\n",
      "Download successful.\n",
      "x 027.일상생활_및_구어체_한-중,_한-일_번역_병렬_말뭉치_데이터/01.데이터/1_Training/라벨링데이터/TL1.zip.part0\n",
      "잠시 기다려 주세요 병합중 입니다. \n",
      "Merging TL1.zip in ./027.일상생활_및_구어체_한-중,_한-일_번역_병렬_말뭉치_데이터/01.데이터/1_Training/라벨링데이터\n",
      "병합이 완료 되었습니다. \n"
     ]
    }
   ],
   "source": [
    "!aihubshell -mode d -datasetkey 546 -filekey 62133"
   ]
  },
  {
   "cell_type": "markdown",
   "id": "78cd7b4e-4c8d-401c-b88e-50c5b9d10f73",
   "metadata": {},
   "source": [
    "다운받은 데이터 디렉토리 및 결과 디렉토리 정의"
   ]
  },
  {
   "cell_type": "code",
   "execution_count": 4,
   "id": "42ff81c2-e562-4ffc-993b-f1d64af9d964",
   "metadata": {},
   "outputs": [],
   "source": [
    "archive_dir = [path for path in pathlib.Path(os.getcwd()).glob(\"027*\") if path.suffix != \".ipynb\"][0]\n",
    "result_dir = pathlib.Path(f\"{os.getcwd()}/aihub-datasets\")\n",
    "result_dir.mkdir(parents=True, exist_ok=True)"
   ]
  },
  {
   "cell_type": "markdown",
   "id": "62b43dc2-a81a-4512-b684-c2d36f39e83d",
   "metadata": {},
   "source": [
    "## 압축 해제 및 EDA"
   ]
  },
  {
   "cell_type": "markdown",
   "id": "fe1d95fd-13f3-448b-b0a7-07a1d178422c",
   "metadata": {},
   "source": [
    "데이터 압축파일 경로 정의"
   ]
  },
  {
   "cell_type": "code",
   "execution_count": 5,
   "id": "cb7ffd56-7455-4d97-9b9c-667eef67cd9f",
   "metadata": {},
   "outputs": [],
   "source": [
    "for walk in os.walk(archive_dir):\n",
    "    current_path, folders, files = walk\n",
    "    for file_name in files:\n",
    "        if file_name.endswith(\".zip\") and current_path.endswith(\"라벨링데이터\"):\n",
    "            archive_path = f\"{current_path}/{file_name}\""
   ]
  },
  {
   "cell_type": "markdown",
   "id": "14ef67f8-55a9-481f-9964-27f893a3ae4d",
   "metadata": {},
   "source": [
    "압축 해제"
   ]
  },
  {
   "cell_type": "code",
   "execution_count": 6,
   "id": "f3a2ebca-d2c5-4a77-8b61-e80c2a61a289",
   "metadata": {},
   "outputs": [],
   "source": [
    "data_dir = pathlib.Path(archive_path.strip(\".zip\"))\n",
    "shutil.unpack_archive(\n",
    "    filename=archive_path,\n",
    "    extract_dir=data_dir,\n",
    "    format=\"zip\",\n",
    ")"
   ]
  },
  {
   "cell_type": "markdown",
   "id": "2cebd57a-fbde-45d8-a88a-fe1820cf71c3",
   "metadata": {},
   "source": [
    "각 데이터는 json 형태로 저장되어 있다."
   ]
  },
  {
   "cell_type": "code",
   "execution_count": 7,
   "id": "470aa678-5624-453a-8dd4-782aae7a7859",
   "metadata": {},
   "outputs": [
    {
     "name": "stdout",
     "output_type": "stream",
     "text": [
      "Number of files in dataset : 12\n"
     ]
    }
   ],
   "source": [
    "data_files = list(data_dir.glob(\"*/*/*.json\"))\n",
    "print(f\"Number of files in dataset : {len(data_files):,}\")"
   ]
  },
  {
   "cell_type": "markdown",
   "id": "be6fce54-c581-4e2a-a0f9-d58f6d97245a",
   "metadata": {},
   "source": [
    "데이터 속성값들. 카테고리별로 한국어-일본어 문장 페어가 다른 특징들과 함께 포함되어 있는 것을 확인할 수 있다. 이 데이터셋은 한-중 번역문도 포함하고 있기 때문에, 예를 들어 한-일 번역문만 사용하고자 한다면  (S_Code, T_Code)가 (ja-JP, ko-KR) 또는 (ko-KR, ja-JP)인 데이터만 사용해야 한다."
   ]
  },
  {
   "cell_type": "code",
   "execution_count": 8,
   "id": "d7a26163-c9ac-4c3a-9abd-73dd514e742d",
   "metadata": {},
   "outputs": [
    {
     "name": "stdout",
     "output_type": "stream",
     "text": [
      "[{'1차수정': '이 과정을 탈아데닐화라고 합니다.',\n",
      "  '2차수정': '',\n",
      "  'ID': 1,\n",
      "  'MT': '이 과정을 탈아데닐화라고 한다.',\n",
      "  'Ratio': '94%',\n",
      "  'S_Code': 'ja-JP',\n",
      "  'S_Length': 17,\n",
      "  'T_Code': 'ko-KR',\n",
      "  'T_Length': 18,\n",
      "  '대분류': '채팅',\n",
      "  '소분류': '기타',\n",
      "  '원문': 'この過程を脱アデニル化と呼びます。',\n",
      "  '중분류': '답변',\n",
      "  '최종번역문': '이 과정을 탈아데닐화라고 합니다.',\n",
      "  '특수표현': 'X',\n",
      "  '화자': 'X'},\n",
      " {'1차수정': '이 관계는 막다른 곳에 있어.',\n",
      "  '2차수정': '',\n",
      "  'ID': 2,\n",
      "  'MT': '이 관계는 막혔다.',\n",
      "  'Ratio': '81%',\n",
      "  'S_Code': 'ja-JP',\n",
      "  'S_Length': 13,\n",
      "  'T_Code': 'ko-KR',\n",
      "  'T_Length': 16,\n",
      "  '대분류': '채팅',\n",
      "  '소분류': '기타',\n",
      "  '원문': 'この関係は行き詰まってる。',\n",
      "  '중분류': '답변',\n",
      "  '최종번역문': '이 관계는 막다른 곳에 있어.',\n",
      "  '특수표현': 'X',\n",
      "  '화자': 'X'},\n",
      " {'1차수정': '이 관계는, 아마 잘 안될 거야.',\n",
      "  '2차수정': '',\n",
      "  'ID': 3,\n",
      "  'MT': '이 관계는 아마 잘 작동하지 않습니다.',\n",
      "  'Ratio': '94%',\n",
      "  'S_Code': 'ja-JP',\n",
      "  'S_Length': 17,\n",
      "  'T_Code': 'ko-KR',\n",
      "  'T_Length': 18,\n",
      "  '대분류': '채팅',\n",
      "  '소분류': '기타',\n",
      "  '원문': 'この関係は、たぶんうまくいかない。',\n",
      "  '중분류': '답변',\n",
      "  '최종번역문': '이 관계는, 아마 잘 안될 거야.',\n",
      "  '특수표현': 'X',\n",
      "  '화자': 'X'}]\n"
     ]
    }
   ],
   "source": [
    "with open(data_files[0], \"r\") as file:\n",
    "    documents = json.load(file)\n",
    "pprint(documents[:3])"
   ]
  },
  {
   "cell_type": "markdown",
   "id": "0bee08fa-8d28-4c8c-9614-7e04ea37813b",
   "metadata": {},
   "source": [
    "전체 로드"
   ]
  },
  {
   "cell_type": "code",
   "execution_count": 9,
   "id": "1649f00c-89be-4987-9ec5-9d68304981ad",
   "metadata": {},
   "outputs": [
    {
     "name": "stderr",
     "output_type": "stream",
     "text": [
      "100%|███████████████████████████████████████████| 12/12 [00:08<00:00,  1.35it/s]\n"
     ]
    }
   ],
   "source": [
    "corpus = []\n",
    "for data_file in tqdm(data_files):\n",
    "    with open(data_file, \"r\") as file:\n",
    "        documents = json.load(file)\n",
    "    for document in documents:\n",
    "        source = document.pop(\"S_Code\")\n",
    "        target = document.pop(\"T_Code\")\n",
    "        if source == \"ko-KR\" and target == \"ja-JP\":\n",
    "            korean = document.pop(\"원문\")\n",
    "            japanese = document.pop(\"최종번역문\")\n",
    "            data = {\n",
    "                \"korean\": korean,\n",
    "                \"japanese\": japanese,\n",
    "                \"category_1st\": document.get(\"대분류\", None),\n",
    "                \"category_2nd\": document.get(\"중분류\", None),\n",
    "                \"category_3rd\": document.get(\"소분류\", None),\n",
    "            }\n",
    "            corpus.append(data)\n",
    "        elif source == \"ja-JP\" and target == \"ko-KR\":\n",
    "            korean = document.pop(\"최종번역문\")\n",
    "            japanese = document.pop(\"원문\")\n",
    "            data = {\n",
    "                \"korean\": korean,\n",
    "                \"japanese\": japanese,\n",
    "                \"category_1st\": document.get(\"대분류\", None),\n",
    "                \"category_2nd\": document.get(\"중분류\", None),\n",
    "                \"category_3rd\": document.get(\"소분류\", None),\n",
    "            }\n",
    "            corpus.append(data)"
   ]
  },
  {
   "cell_type": "markdown",
   "id": "926cdd14-f186-4ac3-a945-6dd3f281dd08",
   "metadata": {},
   "source": [
    "EDA를 위해 데이터프레임으로 변환"
   ]
  },
  {
   "cell_type": "code",
   "execution_count": 10,
   "id": "b05d1a37-70a9-48d0-82b4-48ae3c79bea2",
   "metadata": {},
   "outputs": [
    {
     "name": "stdout",
     "output_type": "stream",
     "text": [
      "Number of documents in the corpus : 1,200,000\n"
     ]
    }
   ],
   "source": [
    "eda_dataset = pl.DataFrame(corpus).sample(fraction=1, shuffle=True)\n",
    "print(f\"Number of documents in the corpus : {eda_dataset.height:,}\")"
   ]
  },
  {
   "cell_type": "markdown",
   "id": "dfd90bc8-0b20-471d-903f-9b8a2b150960",
   "metadata": {},
   "source": [
    "### 카테고리별 문서 수 분포"
   ]
  },
  {
   "cell_type": "markdown",
   "id": "a4c59f47-6315-4461-9f3e-18d07b55bb92",
   "metadata": {},
   "source": [
    "카테고리별 문서 수 분포는 아래와 같았다. 사용하려는 필요에 따라 이 중 특정 카테고리에서 발생한 문서들은 제외해도 무방할 듯 하다."
   ]
  },
  {
   "cell_type": "code",
   "execution_count": 11,
   "id": "2c978d8c-b318-4ad8-b0c3-98d3d1761c84",
   "metadata": {},
   "outputs": [
    {
     "data": {
      "text/html": [
       "<div><style>\n",
       ".dataframe > thead > tr,\n",
       ".dataframe > tbody > tr {\n",
       "  text-align: right;\n",
       "  white-space: pre-wrap;\n",
       "}\n",
       "</style>\n",
       "<table border=\"1\" class=\"dataframe\"><thead><tr><th>category_1st</th><th>category_2nd</th><th>category_3rd</th><th>num_documents</th></tr><tr><td>str</td><td>str</td><td>str</td><td>u32</td></tr></thead><tbody><tr><td>&quot;일상생활&quot;</td><td>&quot;스포츠&quot;</td><td>&quot;관람&quot;</td><td>62,500</td></tr><tr><td>&quot;일상생활&quot;</td><td>&quot;스포츠&quot;</td><td>&quot;운동&quot;</td><td>37,500</td></tr><tr><td>&quot;일상생활&quot;</td><td>&quot;여행&quot;</td><td>&quot;공항, 기내&quot;</td><td>30,000</td></tr><tr><td>&quot;일상생활&quot;</td><td>&quot;여행&quot;</td><td>&quot;관광&quot;</td><td>30,000</td></tr><tr><td>&quot;일상생활&quot;</td><td>&quot;여행&quot;</td><td>&quot;쇼핑&quot;</td><td>30,000</td></tr><tr><td>&quot;일상생활&quot;</td><td>&quot;여행&quot;</td><td>&quot;숙소&quot;</td><td>30,000</td></tr><tr><td>&quot;일상생활&quot;</td><td>&quot;여행&quot;</td><td>&quot;음식점&quot;</td><td>30,000</td></tr><tr><td>&quot;일상생활&quot;</td><td>&quot;일상&quot;</td><td>&quot;영화 및 여가&quot;</td><td>100,000</td></tr><tr><td>&quot;일상생활&quot;</td><td>&quot;일상&quot;</td><td>&quot;일반&quot;</td><td>50,000</td></tr><tr><td>&quot;채팅&quot;</td><td>&quot;답변&quot;</td><td>&quot;기타&quot;</td><td>60,000</td></tr><tr><td>&quot;채팅&quot;</td><td>&quot;답변&quot;</td><td>&quot;스포츠&quot;</td><td>15,000</td></tr><tr><td>&quot;채팅&quot;</td><td>&quot;답변&quot;</td><td>&quot;영화&quot;</td><td>15,000</td></tr><tr><td>&quot;채팅&quot;</td><td>&quot;답변&quot;</td><td>&quot;음식&quot;</td><td>15,000</td></tr><tr><td>&quot;채팅&quot;</td><td>&quot;답변&quot;</td><td>&quot;음악&quot;</td><td>15,000</td></tr><tr><td>&quot;채팅&quot;</td><td>&quot;답변&quot;</td><td>&quot;항공편&quot;</td><td>3</td></tr><tr><td>&quot;채팅&quot;</td><td>&quot;문의&quot;</td><td>&quot;기타&quot;</td><td>26,404</td></tr><tr><td>&quot;채팅&quot;</td><td>&quot;문의&quot;</td><td>&quot;스포츠&quot;</td><td>9,487</td></tr><tr><td>&quot;채팅&quot;</td><td>&quot;문의&quot;</td><td>&quot;영화&quot;</td><td>23,779</td></tr><tr><td>&quot;채팅&quot;</td><td>&quot;문의&quot;</td><td>&quot;음식&quot;</td><td>15,932</td></tr><tr><td>&quot;채팅&quot;</td><td>&quot;문의&quot;</td><td>&quot;음악&quot;</td><td>10,470</td></tr><tr><td>&quot;채팅&quot;</td><td>&quot;문의&quot;</td><td>&quot;항공편&quot;</td><td>11,416</td></tr><tr><td>&quot;채팅&quot;</td><td>&quot;문의&quot;</td><td>&quot;호텔&quot;</td><td>22,509</td></tr><tr><td>&quot;해외영업&quot;</td><td>&quot;IT&quot;</td><td>&quot;계약&quot;</td><td>21,000</td></tr><tr><td>&quot;해외영업&quot;</td><td>&quot;IT&quot;</td><td>&quot;고객선정&quot;</td><td>21,000</td></tr><tr><td>&quot;해외영업&quot;</td><td>&quot;IT&quot;</td><td>&quot;사전영업&quot;</td><td>21,000</td></tr><tr><td>&quot;해외영업&quot;</td><td>&quot;IT&quot;</td><td>&quot;제안&quot;</td><td>21,000</td></tr><tr><td>&quot;해외영업&quot;</td><td>&quot;금융&quot;</td><td>&quot;계약&quot;</td><td>21,000</td></tr><tr><td>&quot;해외영업&quot;</td><td>&quot;금융&quot;</td><td>&quot;고객선정&quot;</td><td>21,000</td></tr><tr><td>&quot;해외영업&quot;</td><td>&quot;금융&quot;</td><td>&quot;사전영업&quot;</td><td>21,000</td></tr><tr><td>&quot;해외영업&quot;</td><td>&quot;금융&quot;</td><td>&quot;제안&quot;</td><td>21,000</td></tr><tr><td>&quot;해외영업&quot;</td><td>&quot;기타&quot;</td><td>&quot;계약&quot;</td><td>56,000</td></tr><tr><td>&quot;해외영업&quot;</td><td>&quot;기타&quot;</td><td>&quot;고객선정&quot;</td><td>56,000</td></tr><tr><td>&quot;해외영업&quot;</td><td>&quot;기타&quot;</td><td>&quot;사전영업&quot;</td><td>56,000</td></tr><tr><td>&quot;해외영업&quot;</td><td>&quot;기타&quot;</td><td>&quot;제안&quot;</td><td>56,000</td></tr><tr><td>&quot;해외영업&quot;</td><td>&quot;미디어컨텐츠&quot;</td><td>&quot;계약&quot;</td><td>21,000</td></tr><tr><td>&quot;해외영업&quot;</td><td>&quot;미디어컨텐츠&quot;</td><td>&quot;고객선정&quot;</td><td>21,000</td></tr><tr><td>&quot;해외영업&quot;</td><td>&quot;미디어컨텐츠&quot;</td><td>&quot;사전영업&quot;</td><td>21,000</td></tr><tr><td>&quot;해외영업&quot;</td><td>&quot;미디어컨텐츠&quot;</td><td>&quot;제안&quot;</td><td>21,000</td></tr><tr><td>&quot;해외영업&quot;</td><td>&quot;제조&quot;</td><td>&quot;계약&quot;</td><td>21,000</td></tr><tr><td>&quot;해외영업&quot;</td><td>&quot;제조&quot;</td><td>&quot;고객선정&quot;</td><td>21,000</td></tr><tr><td>&quot;해외영업&quot;</td><td>&quot;제조&quot;</td><td>&quot;사전영업&quot;</td><td>21,000</td></tr><tr><td>&quot;해외영업&quot;</td><td>&quot;제조&quot;</td><td>&quot;제안&quot;</td><td>21,000</td></tr></tbody></table></div>"
      ],
      "text/plain": [
       "┌──────────────┬──────────────┬──────────────┬───────────────┐\n",
       "│ category_1st ┆ category_2nd ┆ category_3rd ┆ num_documents │\n",
       "│ ---          ┆ ---          ┆ ---          ┆ ---           │\n",
       "│ str          ┆ str          ┆ str          ┆ u32           │\n",
       "╞══════════════╪══════════════╪══════════════╪═══════════════╡\n",
       "│ 일상생활     ┆ 스포츠       ┆ 관람         ┆ 62,500        │\n",
       "│ 일상생활     ┆ 스포츠       ┆ 운동         ┆ 37,500        │\n",
       "│ 일상생활     ┆ 여행         ┆ 공항, 기내   ┆ 30,000        │\n",
       "│ 일상생활     ┆ 여행         ┆ 관광         ┆ 30,000        │\n",
       "│ 일상생활     ┆ 여행         ┆ 쇼핑         ┆ 30,000        │\n",
       "│ 일상생활     ┆ 여행         ┆ 숙소         ┆ 30,000        │\n",
       "│ 일상생활     ┆ 여행         ┆ 음식점       ┆ 30,000        │\n",
       "│ 일상생활     ┆ 일상         ┆ 영화 및 여가 ┆ 100,000       │\n",
       "│ 일상생활     ┆ 일상         ┆ 일반         ┆ 50,000        │\n",
       "│ 채팅         ┆ 답변         ┆ 기타         ┆ 60,000        │\n",
       "│ 채팅         ┆ 답변         ┆ 스포츠       ┆ 15,000        │\n",
       "│ 채팅         ┆ 답변         ┆ 영화         ┆ 15,000        │\n",
       "│ 채팅         ┆ 답변         ┆ 음식         ┆ 15,000        │\n",
       "│ 채팅         ┆ 답변         ┆ 음악         ┆ 15,000        │\n",
       "│ 채팅         ┆ 답변         ┆ 항공편       ┆ 3             │\n",
       "│ 채팅         ┆ 문의         ┆ 기타         ┆ 26,404        │\n",
       "│ 채팅         ┆ 문의         ┆ 스포츠       ┆ 9,487         │\n",
       "│ 채팅         ┆ 문의         ┆ 영화         ┆ 23,779        │\n",
       "│ 채팅         ┆ 문의         ┆ 음식         ┆ 15,932        │\n",
       "│ 채팅         ┆ 문의         ┆ 음악         ┆ 10,470        │\n",
       "│ 채팅         ┆ 문의         ┆ 항공편       ┆ 11,416        │\n",
       "│ 채팅         ┆ 문의         ┆ 호텔         ┆ 22,509        │\n",
       "│ 해외영업     ┆ IT           ┆ 계약         ┆ 21,000        │\n",
       "│ 해외영업     ┆ IT           ┆ 고객선정     ┆ 21,000        │\n",
       "│ 해외영업     ┆ IT           ┆ 사전영업     ┆ 21,000        │\n",
       "│ 해외영업     ┆ IT           ┆ 제안         ┆ 21,000        │\n",
       "│ 해외영업     ┆ 금융         ┆ 계약         ┆ 21,000        │\n",
       "│ 해외영업     ┆ 금융         ┆ 고객선정     ┆ 21,000        │\n",
       "│ 해외영업     ┆ 금융         ┆ 사전영업     ┆ 21,000        │\n",
       "│ 해외영업     ┆ 금융         ┆ 제안         ┆ 21,000        │\n",
       "│ 해외영업     ┆ 기타         ┆ 계약         ┆ 56,000        │\n",
       "│ 해외영업     ┆ 기타         ┆ 고객선정     ┆ 56,000        │\n",
       "│ 해외영업     ┆ 기타         ┆ 사전영업     ┆ 56,000        │\n",
       "│ 해외영업     ┆ 기타         ┆ 제안         ┆ 56,000        │\n",
       "│ 해외영업     ┆ 미디어컨텐츠 ┆ 계약         ┆ 21,000        │\n",
       "│ 해외영업     ┆ 미디어컨텐츠 ┆ 고객선정     ┆ 21,000        │\n",
       "│ 해외영업     ┆ 미디어컨텐츠 ┆ 사전영업     ┆ 21,000        │\n",
       "│ 해외영업     ┆ 미디어컨텐츠 ┆ 제안         ┆ 21,000        │\n",
       "│ 해외영업     ┆ 제조         ┆ 계약         ┆ 21,000        │\n",
       "│ 해외영업     ┆ 제조         ┆ 고객선정     ┆ 21,000        │\n",
       "│ 해외영업     ┆ 제조         ┆ 사전영업     ┆ 21,000        │\n",
       "│ 해외영업     ┆ 제조         ┆ 제안         ┆ 21,000        │\n",
       "└──────────────┴──────────────┴──────────────┴───────────────┘"
      ]
     },
     "execution_count": 11,
     "metadata": {},
     "output_type": "execute_result"
    }
   ],
   "source": [
    "(\n",
    "    eda_dataset\n",
    "    .group_by([\"category_1st\", \"category_2nd\", \"category_3rd\"])\n",
    "    .len(\"num_documents\")\n",
    "    .sort(by=[\"category_1st\", \"category_2nd\", \"category_3rd\"])\n",
    ")"
   ]
  },
  {
   "cell_type": "markdown",
   "id": "26956c88-90d3-42b3-bd88-2c94c36d6dd8",
   "metadata": {},
   "source": [
    "### 문서 토큰 수 분포 확인"
   ]
  },
  {
   "cell_type": "markdown",
   "id": "e85cae9d-e4d6-412a-9e99-47289ebd9c70",
   "metadata": {},
   "source": [
    "한국어에서는 정확히 적용되지 않지만, 편의를 위해 어절의 수(`공백 수 + 1`)를 토큰 수라고 정의한다. 한국어 토큰이 약 670만개 가량 포함된 corpus임을 확인했다."
   ]
  },
  {
   "cell_type": "code",
   "execution_count": 12,
   "id": "caa16cc4-e970-474d-af81-07a8e35f43b6",
   "metadata": {},
   "outputs": [
    {
     "name": "stdout",
     "output_type": "stream",
     "text": [
      "Number of tokens in the Korean corpus : 6,739,216\n"
     ]
    }
   ],
   "source": [
    "eda_dataset = eda_dataset.with_columns(pl.col(\"korean\").str.replace(r\"\\s+\", \" \"))\n",
    "num_tokens = (\n",
    "    eda_dataset\n",
    "    .with_columns((pl.col(\"korean\").str.count_matches(\" \") + 1).alias(\"num_tokens\"))\n",
    "    .select(\"num_tokens\")\n",
    ")\n",
    "print(f\"Number of tokens in the Korean corpus : {num_tokens['num_tokens'].sum():,}\")"
   ]
  },
  {
   "cell_type": "markdown",
   "id": "c911ee81-bb8b-486a-94a4-1aac0b238a7c",
   "metadata": {},
   "source": [
    "문서당 토큰 수 분포"
   ]
  },
  {
   "cell_type": "code",
   "execution_count": 13,
   "id": "b945e798-e39e-4be5-bf8c-eb04f62abc6f",
   "metadata": {},
   "outputs": [
    {
     "data": {
      "text/html": [
       "<div><style>\n",
       ".dataframe > thead > tr,\n",
       ".dataframe > tbody > tr {\n",
       "  text-align: right;\n",
       "  white-space: pre-wrap;\n",
       "}\n",
       "</style>\n",
       "<table border=\"1\" class=\"dataframe\"><thead><tr><th>min</th><th>q05</th><th>Q1</th><th>median</th><th>Q3</th><th>q95</th><th>max</th></tr><tr><td>u32</td><td>i32</td><td>i32</td><td>i32</td><td>i32</td><td>i32</td><td>u32</td></tr></thead><tbody><tr><td>1</td><td>3</td><td>4</td><td>5</td><td>7</td><td>10</td><td>55</td></tr></tbody></table></div>"
      ],
      "text/plain": [
       "┌─────┬─────┬─────┬────────┬─────┬─────┬─────┐\n",
       "│ min ┆ q05 ┆ Q1  ┆ median ┆ Q3  ┆ q95 ┆ max │\n",
       "│ --- ┆ --- ┆ --- ┆ ---    ┆ --- ┆ --- ┆ --- │\n",
       "│ u32 ┆ i32 ┆ i32 ┆ i32    ┆ i32 ┆ i32 ┆ u32 │\n",
       "╞═════╪═════╪═════╪════════╪═════╪═════╪═════╡\n",
       "│ 1   ┆ 3   ┆ 4   ┆ 5      ┆ 7   ┆ 10  ┆ 55  │\n",
       "└─────┴─────┴─────┴────────┴─────┴─────┴─────┘"
      ]
     },
     "execution_count": 13,
     "metadata": {},
     "output_type": "execute_result"
    }
   ],
   "source": [
    "num_tokens.select(\n",
    "    pl.col(\"num_tokens\").min().alias(\"min\"),\n",
    "    pl.col(\"num_tokens\").quantile(0.05).cast(pl.Int32).alias(\"q05\"),\n",
    "    pl.col(\"num_tokens\").quantile(0.25).cast(pl.Int32).alias(\"Q1\"),\n",
    "    pl.col(\"num_tokens\").quantile(0.50).cast(pl.Int32).alias(\"median\"),\n",
    "    pl.col(\"num_tokens\").quantile(0.75).cast(pl.Int32).alias(\"Q3\"),\n",
    "    pl.col(\"num_tokens\").quantile(0.95).cast(pl.Int32).alias(\"q95\"),\n",
    "    pl.col(\"num_tokens\").max().alias(\"max\"),\n",
    ")"
   ]
  },
  {
   "cell_type": "markdown",
   "id": "94efd63b-6fa6-424e-ad1c-c2afbd663cea",
   "metadata": {},
   "source": [
    "토큰 한개짜리 문장들도 outlier라기보단 구어체에서 흔히 나타날 수 있는 문장임을 확인"
   ]
  },
  {
   "cell_type": "code",
   "execution_count": 14,
   "id": "804cebbc-3fa5-4ba8-986c-09df644b4c9c",
   "metadata": {},
   "outputs": [
    {
     "data": {
      "text/html": [
       "<div><style>\n",
       ".dataframe > thead > tr,\n",
       ".dataframe > tbody > tr {\n",
       "  text-align: right;\n",
       "  white-space: pre-wrap;\n",
       "}\n",
       "</style>\n",
       "<table border=\"1\" class=\"dataframe\"><thead><tr><th>korean</th><th>japanese</th></tr><tr><td>str</td><td>str</td></tr></thead><tbody><tr><td>&quot;도와주실래요?&quot;</td><td>&quot;助けてくれますか。&quot;</td></tr><tr><td>&quot;운동하자&quot;</td><td>&quot;運動しよう。&quot;</td></tr><tr><td>&quot;찾아볼게요.&quot;</td><td>&quot;探してみますね。&quot;</td></tr><tr><td>&quot;흠.&quot;</td><td>&quot;ふむ。&quot;</td></tr><tr><td>&quot;워크리스트모니터스레드가정지되었습니다.&quot;</td><td>&quot;ワークリスト モニタ スレッドが停止しました。&quot;</td></tr><tr><td>&quot;생일선물입니다.&quot;</td><td>&quot;お誕生日プレゼントになります。&quot;</td></tr><tr><td>&quot;ラーメンは日本で最もポピュラーな料理の一つです。&quot;</td><td>&quot;ラーメンは日本で最もポピュラーな料理の一つです。&quot;</td></tr><tr><td>&quot;짜증나요.&quot;</td><td>&quot;イライラしています。&quot;</td></tr><tr><td>&quot;왜지?&quot;</td><td>&quot;何でだろう。&quot;</td></tr><tr><td>&quot;협력해드리겠습니다.&quot;</td><td>&quot;ご協力します。&quot;</td></tr></tbody></table></div>"
      ],
      "text/plain": [
       "┌─────────────────────────────────────────────────┬────────────────────────────────────────────────┐\n",
       "│ korean                                          ┆ japanese                                       │\n",
       "│ ---                                             ┆ ---                                            │\n",
       "│ str                                             ┆ str                                            │\n",
       "╞═════════════════════════════════════════════════╪════════════════════════════════════════════════╡\n",
       "│ 도와주실래요?                                   ┆ 助けてくれますか。                             │\n",
       "│ 운동하자                                        ┆ 運動しよう。                                   │\n",
       "│ 찾아볼게요.                                     ┆ 探してみますね。                               │\n",
       "│ 흠.                                             ┆ ふむ。                                         │\n",
       "│ 워크리스트모니터스레드가정지되었습니다.         ┆ ワークリスト モニタ スレッドが停止しました。   │\n",
       "│ 생일선물입니다.                                 ┆ お誕生日プレゼントになります。                 │\n",
       "│ ラーメンは日本で最もポピュラーな料理の一つです  ┆ ラーメンは日本で最もポピュラーな料理の一つです │\n",
       "│ 。                                              ┆ 。                                             │\n",
       "│ 짜증나요.                                       ┆ イライラしています。                           │\n",
       "│ 왜지?                                           ┆ 何でだろう。                                   │\n",
       "│ 협력해드리겠습니다.                             ┆ ご協力します。                                 │\n",
       "└─────────────────────────────────────────────────┴────────────────────────────────────────────────┘"
      ]
     },
     "execution_count": 14,
     "metadata": {},
     "output_type": "execute_result"
    }
   ],
   "source": [
    "(\n",
    "    eda_dataset\n",
    "    .with_columns((pl.col(\"korean\").str.count_matches(\" \") + 1).alias(\"num_tokens\")).filter(pl.col(\"num_tokens\") == 1)\n",
    "    .sample(10)\n",
    "    .select([\"korean\", \"japanese\"])\n",
    ")"
   ]
  },
  {
   "cell_type": "markdown",
   "id": "4cd793da-ddbf-4f62-bfa1-b61c6b63b57b",
   "metadata": {},
   "source": [
    "### 마스킹 토큰 존재 여부 확인"
   ]
  },
  {
   "cell_type": "markdown",
   "id": "eff4bf24-8c8f-486d-91a3-a2073929561b",
   "metadata": {},
   "source": [
    "다른 AI 허브 데이터같이 비식별화가 필요한 텍스트에 마스크가 적용되어 있는지 확인했다. 없다."
   ]
  },
  {
   "cell_type": "code",
   "execution_count": 15,
   "id": "0bfd774a-f131-4cd1-b32f-cee29fee61f4",
   "metadata": {},
   "outputs": [
    {
     "data": {
      "text/html": [
       "<div><style>\n",
       ".dataframe > thead > tr,\n",
       ".dataframe > tbody > tr {\n",
       "  text-align: right;\n",
       "  white-space: pre-wrap;\n",
       "}\n",
       "</style>\n",
       "<table border=\"1\" class=\"dataframe\"><thead><tr><th>mask_pattern</th><th>pattern_count</th></tr><tr><td>str</td><td>u32</td></tr></thead><tbody><tr><td>&quot;(주)&quot;</td><td>20</td></tr><tr><td>&quot;(금)&quot;</td><td>4</td></tr><tr><td>&quot;(월)&quot;</td><td>4</td></tr><tr><td>&quot;(토)&quot;</td><td>4</td></tr><tr><td>&quot;(화)&quot;</td><td>2</td></tr><tr><td>&quot;(목)&quot;</td><td>2</td></tr><tr><td>&quot;(웃음)&quot;</td><td>2</td></tr><tr><td>&quot;(작성)&quot;</td><td>2</td></tr><tr><td>&quot;(모니터링)&quot;</td><td>2</td></tr><tr><td>&quot;(속담)&quot;</td><td>1</td></tr></tbody></table></div>"
      ],
      "text/plain": [
       "┌──────────────┬───────────────┐\n",
       "│ mask_pattern ┆ pattern_count │\n",
       "│ ---          ┆ ---           │\n",
       "│ str          ┆ u32           │\n",
       "╞══════════════╪═══════════════╡\n",
       "│ (주)         ┆ 20            │\n",
       "│ (금)         ┆ 4             │\n",
       "│ (월)         ┆ 4             │\n",
       "│ (토)         ┆ 4             │\n",
       "│ (화)         ┆ 2             │\n",
       "│ (목)         ┆ 2             │\n",
       "│ (웃음)       ┆ 2             │\n",
       "│ (작성)       ┆ 2             │\n",
       "│ (모니터링)   ┆ 2             │\n",
       "│ (속담)       ┆ 1             │\n",
       "└──────────────┴───────────────┘"
      ]
     },
     "execution_count": 15,
     "metadata": {},
     "output_type": "execute_result"
    }
   ],
   "source": [
    "(\n",
    "    eda_dataset\n",
    "    .with_columns(pl.col(\"korean\").str.extract(r\"(\\([가-힣]+\\))\").alias(\"mask_pattern\"))\n",
    "    .filter(pl.col(\"mask_pattern\").is_not_null())\n",
    "    .group_by(\"mask_pattern\")\n",
    "    .len(\"pattern_count\")\n",
    "    .sort(by=\"pattern_count\", descending=True)\n",
    "    .head(10)\n",
    ")"
   ]
  },
  {
   "cell_type": "markdown",
   "id": "eb2d4ac9-4b7a-490f-bf26-9b4962cceb13",
   "metadata": {},
   "source": [
    "### 한국어에 일본어 텍스트가 포함된 경우"
   ]
  },
  {
   "cell_type": "markdown",
   "id": "a8dae618-052e-4d91-a4c4-1f18feb36799",
   "metadata": {},
   "source": [
    "하지만 한국어 안에 일본어가 포함된 데이터가 일부 있었다."
   ]
  },
  {
   "cell_type": "code",
   "execution_count": 16,
   "id": "8d4df0c1-afb0-435e-9eac-8d1ba92bf73d",
   "metadata": {},
   "outputs": [
    {
     "data": {
      "text/html": [
       "<div><style>\n",
       ".dataframe > thead > tr,\n",
       ".dataframe > tbody > tr {\n",
       "  text-align: right;\n",
       "  white-space: pre-wrap;\n",
       "}\n",
       "</style>\n",
       "<table border=\"1\" class=\"dataframe\"><thead><tr><th>jp_pattern</th><th>pattern_count</th></tr><tr><td>str</td><td>u32</td></tr></thead><tbody><tr><td>&quot;(田中)&quot;</td><td>2,747</td></tr><tr><td>&quot;(太郎)&quot;</td><td>1,861</td></tr><tr><td>&quot;(良一)&quot;</td><td>1,448</td></tr><tr><td>&quot;(日本)&quot;</td><td>1,213</td></tr><tr><td>&quot;(東京)&quot;</td><td>821</td></tr><tr><td>&quot;(鈴木)&quot;</td><td>467</td></tr><tr><td>&quot;(隆志)&quot;</td><td>373</td></tr><tr><td>&quot;(花子)&quot;</td><td>371</td></tr><tr><td>&quot;(紀子)&quot;</td><td>290</td></tr><tr><td>&quot;(トム)&quot;</td><td>257</td></tr></tbody></table></div>"
      ],
      "text/plain": [
       "┌────────────┬───────────────┐\n",
       "│ jp_pattern ┆ pattern_count │\n",
       "│ ---        ┆ ---           │\n",
       "│ str        ┆ u32           │\n",
       "╞════════════╪═══════════════╡\n",
       "│ (田中)     ┆ 2,747         │\n",
       "│ (太郎)     ┆ 1,861         │\n",
       "│ (良一)     ┆ 1,448         │\n",
       "│ (日本)     ┆ 1,213         │\n",
       "│ (東京)     ┆ 821           │\n",
       "│ (鈴木)     ┆ 467           │\n",
       "│ (隆志)     ┆ 373           │\n",
       "│ (花子)     ┆ 371           │\n",
       "│ (紀子)     ┆ 290           │\n",
       "│ (トム)     ┆ 257           │\n",
       "└────────────┴───────────────┘"
      ]
     },
     "execution_count": 16,
     "metadata": {},
     "output_type": "execute_result"
    }
   ],
   "source": [
    "(\n",
    "    eda_dataset\n",
    "    .with_columns(pl.col(\"korean\").str.extract(r\"(\\([一-龯ぁ-んァ-ン]+\\))\").alias(\"jp_pattern\"))\n",
    "    .filter(pl.col(\"jp_pattern\").is_not_null())\n",
    "    .group_by(\"jp_pattern\")\n",
    "    .len(\"pattern_count\")\n",
    "    .sort(by=\"pattern_count\", descending=True)\n",
    "    .head(10)\n",
    ")"
   ]
  },
  {
   "cell_type": "code",
   "execution_count": 17,
   "id": "3db28f10-0424-47fb-958e-e54340c785e9",
   "metadata": {},
   "outputs": [
    {
     "data": {
      "text/html": [
       "<div><style>\n",
       ".dataframe > thead > tr,\n",
       ".dataframe > tbody > tr {\n",
       "  text-align: right;\n",
       "  white-space: pre-wrap;\n",
       "}\n",
       "</style>\n",
       "<table border=\"1\" class=\"dataframe\"><thead><tr><th>korean</th><th>japanese</th></tr><tr><td>str</td><td>str</td></tr></thead><tbody><tr><td>&quot;타로(太郎)는 아주 비싼 카메라를 샀다.&quot;</td><td>&quot;太郎はとても高価なカメラを買った。&quot;</td></tr><tr><td>&quot;기이치(喜一)와 아키라(彰)는 침대에서 이야기하고 있습니다.&quot;</td><td>&quot;喜一と彰はベッドで話しています。&quot;</td></tr><tr><td>&quot;런던(ロンドン)의 동물원은 영국(イギリス)에서 제일 오래됐어요.&quot;</td><td>&quot;ロンドンの動物園はイギリスで一番古いです。&quot;</td></tr><tr><td>&quot;카지노에서 빌(ビル)은 어떻게 하고 있어?&quot;</td><td>&quot;カジノでビルはどうしてる？&quot;</td></tr><tr><td>&quot;교토(京都) 역사 지구는 유네스코 세계유산에 등재되어 있어요.&quot;</td><td>&quot;京都歴史地区はユネスコの世界遺産に登録されています。&quot;</td></tr><tr><td>&quot;간신히 일어나 줘서 기뻐, 쿠리모토(栗本).&quot;</td><td>&quot;やっと立ち上がってくれてうれしいよ、栗本。&quot;</td></tr><tr><td>&quot;일본(日本)에서의 생활은 어떻습니까?&quot;</td><td>&quot;日本での生活はいかがですか。&quot;</td></tr><tr><td>&quot;저는 매주 3번 타로(太郎)와 함께 일본어를 공부합니다.&quot;</td><td>&quot;私は毎週 3 回、太郎と一緒に日本語を勉強します。&quot;</td></tr><tr><td>&quot;어느 날 유스케(祐介)는 매우 늦게까지 컴퓨터 게임을 하고 있었습니다.&quot;</td><td>&quot;ある日、祐介は非常に遅くまでコンピューター ゲームをしていました。&quot;</td></tr><tr><td>&quot;모든 일본인들이 키타무라 코스케(北村康介)의 승리를 바라고 있습니다.&quot;</td><td>&quot;日本の誰もが北村康介の勝利を望んでいます。&quot;</td></tr></tbody></table></div>"
      ],
      "text/plain": [
       "┌─────────────────────────────────────────────────┬────────────────────────────────────────────────┐\n",
       "│ korean                                          ┆ japanese                                       │\n",
       "│ ---                                             ┆ ---                                            │\n",
       "│ str                                             ┆ str                                            │\n",
       "╞═════════════════════════════════════════════════╪════════════════════════════════════════════════╡\n",
       "│ 타로(太郎)는 아주 비싼 카메라를 샀다.           ┆ 太郎はとても高価なカメラを買った。             │\n",
       "│ 기이치(喜一)와 아키라(彰)는 침대에서 이야기하고 ┆ 喜一と彰はベッドで話しています。               │\n",
       "│ 있습니다.                                       ┆                                                │\n",
       "│ 런던(ロンドン)의 동물원은 영국(イギリス)에서    ┆ ロンドンの動物園はイギリスで一番古いです。     │\n",
       "│ 제일 오래됐어요.                                ┆                                                │\n",
       "│ 카지노에서 빌(ビル)은 어떻게 하고 있어?         ┆ カジノでビルはどうしてる？                     │\n",
       "│ 교토(京都) 역사 지구는 유네스코 세계유산에      ┆ 京都歴史地区はユネスコの世界遺産に登録されてい │\n",
       "│ 등재되어 있어요.                                ┆ ます。                                         │\n",
       "│ 간신히 일어나 줘서 기뻐, 쿠리모토(栗本).        ┆ やっと立ち上がってくれてうれしいよ、栗本。     │\n",
       "│ 일본(日本)에서의 생활은 어떻습니까?             ┆ 日本での生活はいかがですか。                   │\n",
       "│ 저는 매주 3번 타로(太郎)와 함께 일본어를        ┆ 私は毎週 3                                     │\n",
       "│ 공부합니다.                                     ┆ 回、太郎と一緒に日本語を勉強します。           │\n",
       "│ 어느 날 유스케(祐介)는 매우 늦게까지 컴퓨터     ┆ ある日、祐介は非常に遅くまでコンピューター     │\n",
       "│ 게임을 하고 있었습니다.                         ┆ ゲームをしていました。                         │\n",
       "│ 모든 일본인들이 키타무라 코스케(北村康介)의     ┆ 日本の誰もが北村康介の勝利を望んでいます。     │\n",
       "│ 승리를 바라고 있습니다.                         ┆                                                │\n",
       "└─────────────────────────────────────────────────┴────────────────────────────────────────────────┘"
      ]
     },
     "execution_count": 17,
     "metadata": {},
     "output_type": "execute_result"
    }
   ],
   "source": [
    "(\n",
    "    eda_dataset\n",
    "    .with_columns(pl.col(\"korean\").str.extract(r\"(\\([一-龯ぁ-んァ-ン]+\\))\").alias(\"jp_pattern\"))\n",
    "    .filter(pl.col(\"jp_pattern\").is_not_null())\n",
    "    .sample(10)\n",
    "    .select([\"korean\", \"japanese\"])\n",
    ")"
   ]
  },
  {
   "cell_type": "markdown",
   "id": "ee568398-0214-406f-8252-bae84de0d670",
   "metadata": {},
   "source": [
    "한국어에는 한국어만 포함시키기 위해 이런 패턴은 전부 제거하는 전처리를 적용했다."
   ]
  },
  {
   "cell_type": "code",
   "execution_count": 18,
   "id": "6fce9f8e-e4fb-442b-b1f5-9f5f228e2305",
   "metadata": {},
   "outputs": [],
   "source": [
    "eda_dataset = eda_dataset.with_columns(pl.col(\"korean\").str.replace(r\"(\\([一-龯ぁ-んァ-ン]+\\))\", \"\"))"
   ]
  },
  {
   "cell_type": "markdown",
   "id": "8a9508ab-99ad-4c0e-bcd2-a8df9ef56fc0",
   "metadata": {},
   "source": [
    "## 데이터 저장"
   ]
  },
  {
   "cell_type": "markdown",
   "id": "8e2e72d3-61ee-403e-9d6f-3c89e690f3d5",
   "metadata": {},
   "source": [
    "EDA를 마친 corpus를 앞서 정의한 `result_dir`에 같은 다운받은 데이터셋과 동일한 이름으로 저장"
   ]
  },
  {
   "cell_type": "code",
   "execution_count": 19,
   "id": "9f5afa52-e480-4812-b6a2-a077680e5d2f",
   "metadata": {},
   "outputs": [],
   "source": [
    "result_path = result_dir.joinpath(f\"{archive_dir.name}.parquet\")\n",
    "eda_dataset.write_parquet(result_path)"
   ]
  },
  {
   "cell_type": "markdown",
   "id": "0e7808a4-4baa-4aa5-8711-7c53ca214824",
   "metadata": {},
   "source": [
    "로컬 디렉토리 정리"
   ]
  },
  {
   "cell_type": "code",
   "execution_count": 20,
   "id": "0ff14a9b-69c9-4071-98a7-af5e1e28e797",
   "metadata": {},
   "outputs": [
    {
     "data": {
      "text/plain": [
       "0"
      ]
     },
     "execution_count": 20,
     "metadata": {},
     "output_type": "execute_result"
    }
   ],
   "source": [
    "os.system(f\"rm -rf {archive_dir}\")"
   ]
  },
  {
   "cell_type": "markdown",
   "id": "a06e5bd9-895f-42e7-8ab3-d41d25573db8",
   "metadata": {},
   "source": [
    "저장된 데이터셋에는 한국어 문장(`korean`), 이에 대응하는 일본어 문장(`japanese`)과 함께 해당 문장의 카테고리가 저장되어 있다."
   ]
  },
  {
   "cell_type": "code",
   "execution_count": 21,
   "id": "779a0167-586b-4d85-862b-7e43b9c50d47",
   "metadata": {},
   "outputs": [
    {
     "data": {
      "text/html": [
       "<div><style>\n",
       ".dataframe > thead > tr,\n",
       ".dataframe > tbody > tr {\n",
       "  text-align: right;\n",
       "  white-space: pre-wrap;\n",
       "}\n",
       "</style>\n",
       "<table border=\"1\" class=\"dataframe\"><thead><tr><th>korean</th><th>japanese</th><th>category_1st</th><th>category_2nd</th><th>category_3rd</th></tr><tr><td>str</td><td>str</td><td>str</td><td>str</td><td>str</td></tr></thead><tbody><tr><td>&quot;당신은 편의점에서 일한 적이 있나요?&quot;</td><td>&quot;あなたはコンビニで働いたことがありますか。&quot;</td><td>&quot;채팅&quot;</td><td>&quot;답변&quot;</td><td>&quot;음악&quot;</td></tr><tr><td>&quot;한 500개 정도?&quot;</td><td>&quot;およそ500個くらい？&quot;</td><td>&quot;해외영업&quot;</td><td>&quot;제조&quot;</td><td>&quot;계약&quot;</td></tr><tr><td>&quot;조회하고 말씀해 주세요?&quot;</td><td>&quot;照会してからお話しくださいか？&quot;</td><td>&quot;채팅&quot;</td><td>&quot;문의&quot;</td><td>&quot;항공편&quot;</td></tr><tr><td>&quot;혹시 이 메뉴를 먹어보려면 오래 걸릴까요?&quot;</td><td>&quot;すみません、このメニューを食べてみるには長くかかりますか？&quot;</td><td>&quot;일상생활&quot;</td><td>&quot;여행&quot;</td><td>&quot;음식점&quot;</td></tr><tr><td>&quot;요리책을 침대 속에서 읽는 게 은근한 기쁨이야.&quot;</td><td>&quot;料理の本をベッドの中で読むのが密かな喜びなんだよね。&quot;</td><td>&quot;채팅&quot;</td><td>&quot;답변&quot;</td><td>&quot;음식&quot;</td></tr><tr><td>&quot;네네 그럼 바로 입금해주시길 바랍니다.&quot;</td><td>&quot;はいはい。ではすぐに振り込みをお願いします。&quot;</td><td>&quot;해외영업&quot;</td><td>&quot;기타&quot;</td><td>&quot;사전영업&quot;</td></tr><tr><td>&quot;저희 아버지는 좋은 일을 하세요.&quot;</td><td>&quot;私の父は良い仕事をしています。&quot;</td><td>&quot;일상생활&quot;</td><td>&quot;일상&quot;</td><td>&quot;일반&quot;</td></tr><tr><td>&quot;백분율이 높을수록 압축률이 낮고 화질이 우수함을 나타냅니다.&quot;</td><td>&quot;パーセンテージが高いほど、圧縮率が低く、画質が優れていることを示します。&quot;</td><td>&quot;해외영업&quot;</td><td>&quot;금융&quot;</td><td>&quot;사전영업&quot;</td></tr><tr><td>&quot;우선 고객님 성함먼저 여쭤보겠습니다.&quot;</td><td>&quot;まず、お客様のお名前から伺います。&quot;</td><td>&quot;해외영업&quot;</td><td>&quot;금융&quot;</td><td>&quot;사전영업&quot;</td></tr><tr><td>&quot;사업계획서가 있으실까요?&quot;</td><td>&quot;事業計画書はあるんでしょうか？&quot;</td><td>&quot;해외영업&quot;</td><td>&quot;IT&quot;</td><td>&quot;고객선정&quot;</td></tr></tbody></table></div>"
      ],
      "text/plain": [
       "┌──────────────────────────┬──────────────────────────┬──────────────┬──────────────┬──────────────┐\n",
       "│ korean                   ┆ japanese                 ┆ category_1st ┆ category_2nd ┆ category_3rd │\n",
       "│ ---                      ┆ ---                      ┆ ---          ┆ ---          ┆ ---          │\n",
       "│ str                      ┆ str                      ┆ str          ┆ str          ┆ str          │\n",
       "╞══════════════════════════╪══════════════════════════╪══════════════╪══════════════╪══════════════╡\n",
       "│ 당신은 편의점에서 일한   ┆ あなたはコンビニで働いた ┆ 채팅         ┆ 답변         ┆ 음악         │\n",
       "│ 적이 있나요?             ┆ ことがありますか。       ┆              ┆              ┆              │\n",
       "│ 한 500개 정도?           ┆ およそ500個くらい？      ┆ 해외영업     ┆ 제조         ┆ 계약         │\n",
       "│ 조회하고 말씀해 주세요?  ┆ 照会してからお話しくださ ┆ 채팅         ┆ 문의         ┆ 항공편       │\n",
       "│                          ┆ いか？                   ┆              ┆              ┆              │\n",
       "│ 혹시 이 메뉴를           ┆ すみません、このメニュー ┆ 일상생활     ┆ 여행         ┆ 음식점       │\n",
       "│ 먹어보려면 오래          ┆ を食べてみるには長くかか ┆              ┆              ┆              │\n",
       "│ 걸릴까요?                ┆ りますか？               ┆              ┆              ┆              │\n",
       "│ 요리책을 침대 속에서     ┆ 料理の本をベッドの中で読 ┆ 채팅         ┆ 답변         ┆ 음식         │\n",
       "│ 읽는 게 은근한 기쁨이야. ┆ むのが密かな喜びなんだよ ┆              ┆              ┆              │\n",
       "│                          ┆ ね。                     ┆              ┆              ┆              │\n",
       "│ 네네 그럼 바로           ┆ はいはい。ではすぐに振り ┆ 해외영업     ┆ 기타         ┆ 사전영업     │\n",
       "│ 입금해주시길 바랍니다.   ┆ 込みをお願いします。     ┆              ┆              ┆              │\n",
       "│ 저희 아버지는 좋은 일을  ┆ 私の父は良い仕事をしてい ┆ 일상생활     ┆ 일상         ┆ 일반         │\n",
       "│ 하세요.                  ┆ ます。                   ┆              ┆              ┆              │\n",
       "│ 백분율이 높을수록        ┆ パーセンテージが高いほど ┆ 해외영업     ┆ 금융         ┆ 사전영업     │\n",
       "│ 압축률이 낮고 화질이     ┆ 、圧縮率が低く、画質が優 ┆              ┆              ┆              │\n",
       "│ 우수함을 나타냅니다.     ┆ れていることを示します。 ┆              ┆              ┆              │\n",
       "│ 우선 고객님 성함먼저     ┆ まず、お客様のお名前から ┆ 해외영업     ┆ 금융         ┆ 사전영업     │\n",
       "│ 여쭤보겠습니다.          ┆ 伺います。               ┆              ┆              ┆              │\n",
       "│ 사업계획서가 있으실까요? ┆ 事業計画書はあるんでしょ ┆ 해외영업     ┆ IT           ┆ 고객선정     │\n",
       "│                          ┆ うか？                   ┆              ┆              ┆              │\n",
       "└──────────────────────────┴──────────────────────────┴──────────────┴──────────────┴──────────────┘"
      ]
     },
     "execution_count": 21,
     "metadata": {},
     "output_type": "execute_result"
    }
   ],
   "source": [
    "eda_dataset.head(10)"
   ]
  }
 ],
 "metadata": {
  "kernelspec": {
   "display_name": "Python 3 (ipykernel)",
   "language": "python",
   "name": "python3"
  },
  "language_info": {
   "codemirror_mode": {
    "name": "ipython",
    "version": 3
   },
   "file_extension": ".py",
   "mimetype": "text/x-python",
   "name": "python",
   "nbconvert_exporter": "python",
   "pygments_lexer": "ipython3",
   "version": "3.10.10"
  }
 },
 "nbformat": 4,
 "nbformat_minor": 5
}
