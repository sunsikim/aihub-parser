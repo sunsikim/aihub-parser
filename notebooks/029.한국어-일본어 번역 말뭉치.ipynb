{
 "cells": [
  {
   "cell_type": "code",
   "execution_count": 1,
   "id": "ef18ca60-2601-4b0e-96a3-bfe1c82a65a2",
   "metadata": {},
   "outputs": [],
   "source": [
    "import os\n",
    "import pathlib\n",
    "import shutil\n",
    "import json\n",
    "import polars as pl\n",
    "from pprint import pprint\n",
    "from tqdm import tqdm\n",
    "\n",
    "pl.Config.load_from_file(\"pl_config.json\")\n",
    "pl.set_random_seed(999)"
   ]
  },
  {
   "cell_type": "markdown",
   "id": "4c10fade-fe4e-4057-92fa-e7e5ff0e5943",
   "metadata": {},
   "source": [
    "## 다운로드"
   ]
  },
  {
   "cell_type": "markdown",
   "id": "f545f605-d99b-4be4-ae9d-6c811de396a9",
   "metadata": {},
   "source": [
    "다운받을 데이터셋 정보 조회"
   ]
  },
  {
   "cell_type": "code",
   "execution_count": 2,
   "id": "04ac5194-5898-4fa1-8c9f-1de9d0eeeac3",
   "metadata": {},
   "outputs": [
    {
     "name": "stdout",
     "output_type": "stream",
     "text": [
      "==========================================\n",
      "aihubshell version 24.01.29 v0.3\n",
      "==========================================\n",
      "Fetching file tree structure...\n",
      "The contents are encoded in UTF-8 including Korean characters. \n",
      "If the following contents are not output normally, \n",
      "Please modify the character information of the OS. \n",
      "=================공지사항=================== \n",
      "========================================== \n",
      "\n",
      "    └─029.한국어-일본어 번역 말뭉치\n",
      "        ├─01.데이터\n",
      "        │  ├─2.Validation\n",
      "        │  │  ├─원천데이터\n",
      "        │  │  │  └─ko2ja_culture_validation_csv.zip | 24 MB | 46377\n",
      "        │  │  └─라벨링데이터\n",
      "        │  │      └─ko2ja_culture_validation_json.zip | 26 MB | 46376\n",
      "        │  └─1.Training\n",
      "        │      ├─라벨링데이터\n",
      "        │      │  └─ko2ja_culture_training_json.zip | 209 MB | 46374\n",
      "        │      └─원천데이터\n",
      "        │          └─ko2ja_culture_training_csv.zip | 191 MB | 46375\n",
      "        ├─02.저작도구\n",
      "        │  ├─2.저작도구파일.zip | 725 MB | 396896\n",
      "        │  └─1.사용매뉴얼.zip | 26 MB | 396897\n",
      "        └─AI모델 및 소스코드.zip | 409 MB | 396898\n"
     ]
    }
   ],
   "source": [
    "!aihubshell -mode l -datasetkey 127"
   ]
  },
  {
   "cell_type": "markdown",
   "id": "9a31ee30-082b-44c8-bfe4-cdc390b110b3",
   "metadata": {},
   "source": [
    "데이터 개요는 이 [페이지](https://aihub.or.kr/aihubdata/data/view.do?currMenu=115&topMenu=100&aihubDataSe=data&dataSetSn=127)에서 찾아볼 수 있다. 라벨링데이터를 다운받아 분석을 진행한다."
   ]
  },
  {
   "cell_type": "code",
   "execution_count": 3,
   "id": "de458d64-f622-4770-ac45-cd08fb0960ba",
   "metadata": {},
   "outputs": [
    {
     "name": "stdout",
     "output_type": "stream",
     "text": [
      "==========================================\n",
      "aihubshell version 24.01.29 v0.3\n",
      "==========================================\n",
      "Authentication successful.\n",
      "  % Total    % Received % Xferd  Average Speed   Time    Time     Time  Current\n",
      "                                 Dload  Upload   Total   Spent    Left  Speed\n",
      "  0     0    0     0    0     0      0      0 --:--:-- --:--:-- --:--:--     0\n",
      "100  208M    0  208M    0     0  5396k      0 --:--:--  0:00:39 --:--:-- 6606k  0  4506k      0 --:--:--  0:00:14 --:--:-- 5708k:32 --:--:-- 6176k\n",
      "Request successful with HTTP status 200.\n",
      "Download successful.\n",
      "x 029.한국어-일본어_번역_말뭉치/01.데이터/1.Training/라벨링데이터/ko2ja_culture_training_json.zip.part0\n",
      "잠시 기다려 주세요 병합중 입니다. \n",
      "Merging ko2ja_culture_training_json.zip in ./029.한국어-일본어_번역_말뭉치/01.데이터/1.Training/라벨링데이터\n",
      "병합이 완료 되었습니다. \n"
     ]
    }
   ],
   "source": [
    "!aihubshell -mode d -datasetkey 127 -filekey 46374"
   ]
  },
  {
   "cell_type": "markdown",
   "id": "78cd7b4e-4c8d-401c-b88e-50c5b9d10f73",
   "metadata": {},
   "source": [
    "다운받은 데이터 디렉토리 및 결과 디렉토리 정의"
   ]
  },
  {
   "cell_type": "code",
   "execution_count": 4,
   "id": "42ff81c2-e562-4ffc-993b-f1d64af9d964",
   "metadata": {},
   "outputs": [],
   "source": [
    "archive_dir = [path for path in pathlib.Path(os.getcwd()).glob(\"029*\") if path.suffix != \".ipynb\"][0]\n",
    "result_dir = pathlib.Path(f\"{os.getcwd()}/aihub-datasets\")\n",
    "result_dir.mkdir(parents=True, exist_ok=True)"
   ]
  },
  {
   "cell_type": "markdown",
   "id": "62b43dc2-a81a-4512-b684-c2d36f39e83d",
   "metadata": {},
   "source": [
    "## 압축 해제 및 EDA"
   ]
  },
  {
   "cell_type": "markdown",
   "id": "fe1d95fd-13f3-448b-b0a7-07a1d178422c",
   "metadata": {},
   "source": [
    "데이터 압축파일 경로 정의"
   ]
  },
  {
   "cell_type": "code",
   "execution_count": 5,
   "id": "cb7ffd56-7455-4d97-9b9c-667eef67cd9f",
   "metadata": {},
   "outputs": [],
   "source": [
    "for walk in os.walk(archive_dir):\n",
    "    current_path, folders, files = walk\n",
    "    for file_name in files:\n",
    "        if file_name.endswith(\".zip\") and current_path.endswith(\"라벨링데이터\"):\n",
    "            archive_path = f\"{current_path}/{file_name}\""
   ]
  },
  {
   "cell_type": "markdown",
   "id": "14ef67f8-55a9-481f-9964-27f893a3ae4d",
   "metadata": {},
   "source": [
    "압축 해제"
   ]
  },
  {
   "cell_type": "code",
   "execution_count": 6,
   "id": "f3a2ebca-d2c5-4a77-8b61-e80c2a61a289",
   "metadata": {},
   "outputs": [],
   "source": [
    "data_dir = pathlib.Path(archive_path.strip(\".zip\"))\n",
    "shutil.unpack_archive(\n",
    "    filename=archive_path,\n",
    "    extract_dir=data_dir,\n",
    "    format=\"zip\",\n",
    ")"
   ]
  },
  {
   "cell_type": "markdown",
   "id": "2cebd57a-fbde-45d8-a88a-fe1820cf71c3",
   "metadata": {},
   "source": [
    "각 데이터는 json 형태로 저장되어 있다."
   ]
  },
  {
   "cell_type": "code",
   "execution_count": 7,
   "id": "470aa678-5624-453a-8dd4-782aae7a7859",
   "metadata": {},
   "outputs": [
    {
     "name": "stdout",
     "output_type": "stream",
     "text": [
      "Number of files in dataset : 9\n"
     ]
    }
   ],
   "source": [
    "data_files = list(data_dir.glob(\"*.json\"))\n",
    "print(f\"Number of files in dataset : {len(data_files):,}\")"
   ]
  },
  {
   "cell_type": "markdown",
   "id": "be6fce54-c581-4e2a-a0f9-d58f6d97245a",
   "metadata": {},
   "source": [
    "데이터 속성값들. 카테고리별로 한국어-일본어 문장 페어가 `출처`, `일본어_글자수`, `한국어_어절수`와 같은 특징들과 함께 포함되어 있는 것을 확인할 수 있다."
   ]
  },
  {
   "cell_type": "code",
   "execution_count": 8,
   "id": "d7a26163-c9ac-4c3a-9abd-73dd514e742d",
   "metadata": {},
   "outputs": [
    {
     "name": "stdout",
     "output_type": "stream",
     "text": [
      "[{'관리번호': 'KO-JA-2020-FINA-000501',\n",
      "  '길이_분류': 4,\n",
      "  '분야': '금융/증시',\n",
      "  '수행기관': '플리토',\n",
      "  '일본어': '金融投資業界によると、転売を中断したライム資産運用の私募ファンドは「プルートーFI '\n",
      "         'D-1号」「テティス2号」「プルートーTF-1号」「クレジットエンシュアド1号」であり、この内に不法行為の相当部分が発見されたファンドは貿易金融ファンドだ。',\n",
      "  '일본어_글자수': 93,\n",
      "  '출처': 'http://www.sedaily.com/NewsView/1YYZENADHR',\n",
      "  '한국어': \"금융투자업계에 따르면 환매를 중단한 라임자산운용의 사모펀드는 '플루토FI D-1호', '테티스 2호', '플루토TF- \"\n",
      "         \"1호', '크레디트 인슈어드 1호'로 이중 불법행위 상당 부분이 발견된 펀드는 무역금융펀드다.\",\n",
      "  '한국어_어절수': 22},\n",
      " {'관리번호': 'KO-JA-2020-FINA-000502',\n",
      "  '길이_분류': 2,\n",
      "  '분야': '금융/증시',\n",
      "  '수행기관': '플리토',\n",
      "  '일본어': 'ところで被害者ではない方々にもホン記者が伝達しなければならない話があるのですよ。',\n",
      "  '일본어_글자수': 39,\n",
      "  '출처': 'https://www.nocutnews.co.kr/news/5290854',\n",
      "  '한국어': '그런데 피해자가 아닌 분들에게도 홍 기자가 전달해야 할 말이 있다고요.',\n",
      "  '한국어_어절수': 10},\n",
      " {'관리번호': 'KO-JA-2020-FINA-000503',\n",
      "  '길이_분류': 3,\n",
      "  '분야': '금융/증시',\n",
      "  '수행기관': '플리토',\n",
      "  '일본어': '待ち時間なしに通帳・デビットカードの新規発給、OTPカード発給、各種申告などができ、ラウンジマネージャーがデジタル機器の利用を支援する。',\n",
      "  '일본어_글자수': 56,\n",
      "  '출처': 'http://www.sedaily.com/NewsView/1YYX3XWKFE',\n",
      "  '한국어': '대기시간 없이 통장·체크카드 신규 발급, OTP카드 발급, 각종 제신고 등을 할 수 있으며 라운지매니저가 디지털기기 이용을 '\n",
      "         '돕는다.',\n",
      "  '한국어_어절수': 17}]\n"
     ]
    }
   ],
   "source": [
    "with open(data_files[0], \"r\") as file:\n",
    "    documents = json.load(file)\n",
    "pprint(documents[:3])"
   ]
  },
  {
   "cell_type": "markdown",
   "id": "0bee08fa-8d28-4c8c-9614-7e04ea37813b",
   "metadata": {},
   "source": [
    "전체 로드"
   ]
  },
  {
   "cell_type": "code",
   "execution_count": 9,
   "id": "1649f00c-89be-4987-9ec5-9d68304981ad",
   "metadata": {},
   "outputs": [
    {
     "name": "stderr",
     "output_type": "stream",
     "text": [
      "100%|███████████████████████████████████████████████████████████████████████████████████████████████████████████████████████████████████████████████████████████████████████████████████| 9/9 [00:03<00:00,  2.75it/s]\n"
     ]
    }
   ],
   "source": [
    "corpus = []\n",
    "for data_file in tqdm(data_files):\n",
    "    with open(data_file, \"r\") as file:\n",
    "        documents = json.load(file)\n",
    "    for document in documents:\n",
    "        data = {\n",
    "            \"korean\": document[\"한국어\"],\n",
    "            \"japanese\": document[\"일본어\"],\n",
    "            \"category\": document[\"분야\"]\n",
    "        }\n",
    "        corpus.append(data)"
   ]
  },
  {
   "cell_type": "markdown",
   "id": "926cdd14-f186-4ac3-a945-6dd3f281dd08",
   "metadata": {},
   "source": [
    "EDA를 위해 데이터프레임으로 변환"
   ]
  },
  {
   "cell_type": "code",
   "execution_count": 10,
   "id": "b05d1a37-70a9-48d0-82b4-48ae3c79bea2",
   "metadata": {},
   "outputs": [
    {
     "name": "stdout",
     "output_type": "stream",
     "text": [
      "Number of documents in the corpus : 1,200,000\n"
     ]
    }
   ],
   "source": [
    "eda_dataset = pl.DataFrame(corpus).sample(fraction=1, shuffle=True)\n",
    "print(f\"Number of documents in the corpus : {eda_dataset.height:,}\")"
   ]
  },
  {
   "cell_type": "markdown",
   "id": "dfd90bc8-0b20-471d-903f-9b8a2b150960",
   "metadata": {},
   "source": [
    "### 카테고리별 문서 수 분포"
   ]
  },
  {
   "cell_type": "markdown",
   "id": "a4c59f47-6315-4461-9f3e-18d07b55bb92",
   "metadata": {},
   "source": [
    "카테고리별 문서 수 분포는 아래와 같았다."
   ]
  },
  {
   "cell_type": "code",
   "execution_count": 11,
   "id": "2c978d8c-b318-4ad8-b0c3-98d3d1761c84",
   "metadata": {},
   "outputs": [
    {
     "data": {
      "text/html": [
       "<div><style>\n",
       ".dataframe > thead > tr,\n",
       ".dataframe > tbody > tr {\n",
       "  text-align: right;\n",
       "  white-space: pre-wrap;\n",
       "}\n",
       "</style>\n",
       "<table border=\"1\" class=\"dataframe\"><thead><tr><th>category</th><th>num_documents</th></tr><tr><td>str</td><td>u32</td></tr></thead><tbody><tr><td>&quot;금융/증시&quot;</td><td>160,000</td></tr><tr><td>&quot;IT/컴퓨터/모바일&quot;</td><td>160,000</td></tr><tr><td>&quot;사회/노동/복지&quot;</td><td>160,000</td></tr><tr><td>&quot;의료/보건&quot;</td><td>80,000</td></tr><tr><td>&quot;교육&quot;</td><td>80,000</td></tr><tr><td>&quot;특허/기술&quot;</td><td>120,000</td></tr><tr><td>&quot;K-POP(한류)/대중문화공연콘텐츠&quot;</td><td>160,000</td></tr><tr><td>&quot;문화재/향토/K-FOOD&quot;</td><td>120,000</td></tr><tr><td>&quot;자동차/부품/교통/소재&quot;</td><td>160,000</td></tr></tbody></table></div>"
      ],
      "text/plain": [
       "┌────────────────────────────────┬───────────────┐\n",
       "│ category                       ┆ num_documents │\n",
       "│ ---                            ┆ ---           │\n",
       "│ str                            ┆ u32           │\n",
       "╞════════════════════════════════╪═══════════════╡\n",
       "│ 금융/증시                      ┆ 160,000       │\n",
       "│ IT/컴퓨터/모바일               ┆ 160,000       │\n",
       "│ 사회/노동/복지                 ┆ 160,000       │\n",
       "│ 의료/보건                      ┆ 80,000        │\n",
       "│ 교육                           ┆ 80,000        │\n",
       "│ 특허/기술                      ┆ 120,000       │\n",
       "│ K-POP(한류)/대중문화공연콘텐츠 ┆ 160,000       │\n",
       "│ 문화재/향토/K-FOOD             ┆ 120,000       │\n",
       "│ 자동차/부품/교통/소재          ┆ 160,000       │\n",
       "└────────────────────────────────┴───────────────┘"
      ]
     },
     "execution_count": 11,
     "metadata": {},
     "output_type": "execute_result"
    }
   ],
   "source": [
    "eda_dataset.group_by(\"category\").len(\"num_documents\")"
   ]
  },
  {
   "cell_type": "markdown",
   "id": "26956c88-90d3-42b3-bd88-2c94c36d6dd8",
   "metadata": {},
   "source": [
    "### 문서 토큰 수 분포 확인"
   ]
  },
  {
   "cell_type": "markdown",
   "id": "e85cae9d-e4d6-412a-9e99-47289ebd9c70",
   "metadata": {},
   "source": [
    "한국어에서는 정확히 적용되지 않지만, 편의를 위해 어절의 수(`공백 수 + 1`)를 토큰 수라고 정의한다. 한국어 토큰이 약 1,900만개 가량 포함된 corpus임을 확인했다."
   ]
  },
  {
   "cell_type": "code",
   "execution_count": 12,
   "id": "caa16cc4-e970-474d-af81-07a8e35f43b6",
   "metadata": {},
   "outputs": [
    {
     "name": "stdout",
     "output_type": "stream",
     "text": [
      "Number of tokens in the Korean corpus : 18,784,762\n"
     ]
    }
   ],
   "source": [
    "eda_dataset = eda_dataset.with_columns(pl.col(\"korean\").str.replace(r\"\\s+\", \" \"))\n",
    "num_tokens = (\n",
    "    eda_dataset\n",
    "    .with_columns((pl.col(\"korean\").str.count_matches(\" \") + 1).alias(\"num_tokens\"))\n",
    "    .select(\"num_tokens\")\n",
    ")\n",
    "print(f\"Number of tokens in the Korean corpus : {num_tokens['num_tokens'].sum():,}\")"
   ]
  },
  {
   "cell_type": "markdown",
   "id": "c911ee81-bb8b-486a-94a4-1aac0b238a7c",
   "metadata": {},
   "source": [
    "문서당 토큰 수 분포"
   ]
  },
  {
   "cell_type": "code",
   "execution_count": 13,
   "id": "b945e798-e39e-4be5-bf8c-eb04f62abc6f",
   "metadata": {},
   "outputs": [
    {
     "data": {
      "text/html": [
       "<div><style>\n",
       ".dataframe > thead > tr,\n",
       ".dataframe > tbody > tr {\n",
       "  text-align: right;\n",
       "  white-space: pre-wrap;\n",
       "}\n",
       "</style>\n",
       "<table border=\"1\" class=\"dataframe\"><thead><tr><th>min</th><th>q05</th><th>Q1</th><th>median</th><th>Q3</th><th>q95</th><th>max</th></tr><tr><td>u32</td><td>i32</td><td>i32</td><td>i32</td><td>i32</td><td>i32</td><td>u32</td></tr></thead><tbody><tr><td>3</td><td>8</td><td>11</td><td>15</td><td>19</td><td>25</td><td>35</td></tr></tbody></table></div>"
      ],
      "text/plain": [
       "┌─────┬─────┬─────┬────────┬─────┬─────┬─────┐\n",
       "│ min ┆ q05 ┆ Q1  ┆ median ┆ Q3  ┆ q95 ┆ max │\n",
       "│ --- ┆ --- ┆ --- ┆ ---    ┆ --- ┆ --- ┆ --- │\n",
       "│ u32 ┆ i32 ┆ i32 ┆ i32    ┆ i32 ┆ i32 ┆ u32 │\n",
       "╞═════╪═════╪═════╪════════╪═════╪═════╪═════╡\n",
       "│ 3   ┆ 8   ┆ 11  ┆ 15     ┆ 19  ┆ 25  ┆ 35  │\n",
       "└─────┴─────┴─────┴────────┴─────┴─────┴─────┘"
      ]
     },
     "execution_count": 13,
     "metadata": {},
     "output_type": "execute_result"
    }
   ],
   "source": [
    "num_tokens.select(\n",
    "    pl.col(\"num_tokens\").min().alias(\"min\"),\n",
    "    pl.col(\"num_tokens\").quantile(0.05).cast(pl.Int32).alias(\"q05\"),\n",
    "    pl.col(\"num_tokens\").quantile(0.25).cast(pl.Int32).alias(\"Q1\"),\n",
    "    pl.col(\"num_tokens\").quantile(0.50).cast(pl.Int32).alias(\"median\"),\n",
    "    pl.col(\"num_tokens\").quantile(0.75).cast(pl.Int32).alias(\"Q3\"),\n",
    "    pl.col(\"num_tokens\").quantile(0.95).cast(pl.Int32).alias(\"q95\"),\n",
    "    pl.col(\"num_tokens\").max().alias(\"max\"),\n",
    ")"
   ]
  },
  {
   "cell_type": "markdown",
   "id": "4cd793da-ddbf-4f62-bfa1-b61c6b63b57b",
   "metadata": {},
   "source": [
    "### 마스킹 토큰 존재 여부 확인"
   ]
  },
  {
   "cell_type": "markdown",
   "id": "eff4bf24-8c8f-486d-91a3-a2073929561b",
   "metadata": {},
   "source": [
    "다른 AI 허브 데이터같이 비식별화가 필요한 텍스트에 마스크가 적용되어 있는지 확인했다. 없다."
   ]
  },
  {
   "cell_type": "code",
   "execution_count": 14,
   "id": "0bfd774a-f131-4cd1-b32f-cee29fee61f4",
   "metadata": {},
   "outputs": [
    {
     "data": {
      "text/html": [
       "<div><style>\n",
       ".dataframe > thead > tr,\n",
       ".dataframe > tbody > tr {\n",
       "  text-align: right;\n",
       "  white-space: pre-wrap;\n",
       "}\n",
       "</style>\n",
       "<table border=\"1\" class=\"dataframe\"><thead><tr><th>mask_pattern</th><th>pattern_count</th></tr><tr><td>str</td><td>u32</td></tr></thead><tbody><tr><td>&quot;(수)&quot;</td><td>665</td></tr><tr><td>&quot;(금)&quot;</td><td>664</td></tr><tr><td>&quot;(월)&quot;</td><td>553</td></tr><tr><td>&quot;(목)&quot;</td><td>486</td></tr><tr><td>&quot;(화)&quot;</td><td>411</td></tr><tr><td>&quot;(주)&quot;</td><td>107</td></tr><tr><td>&quot;(앱)&quot;</td><td>102</td></tr><tr><td>&quot;(토)&quot;</td><td>85</td></tr><tr><td>&quot;(여자)&quot;</td><td>71</td></tr><tr><td>&quot;(페이스리프트)&quot;</td><td>44</td></tr></tbody></table></div>"
      ],
      "text/plain": [
       "┌────────────────┬───────────────┐\n",
       "│ mask_pattern   ┆ pattern_count │\n",
       "│ ---            ┆ ---           │\n",
       "│ str            ┆ u32           │\n",
       "╞════════════════╪═══════════════╡\n",
       "│ (수)           ┆ 665           │\n",
       "│ (금)           ┆ 664           │\n",
       "│ (월)           ┆ 553           │\n",
       "│ (목)           ┆ 486           │\n",
       "│ (화)           ┆ 411           │\n",
       "│ (주)           ┆ 107           │\n",
       "│ (앱)           ┆ 102           │\n",
       "│ (토)           ┆ 85            │\n",
       "│ (여자)         ┆ 71            │\n",
       "│ (페이스리프트) ┆ 44            │\n",
       "└────────────────┴───────────────┘"
      ]
     },
     "execution_count": 14,
     "metadata": {},
     "output_type": "execute_result"
    }
   ],
   "source": [
    "(\n",
    "    eda_dataset\n",
    "    .with_columns(pl.col(\"korean\").str.extract(r\"(\\([가-힣]+\\))\").alias(\"mask_pattern\"))\n",
    "    .filter(pl.col(\"mask_pattern\").is_not_null())\n",
    "    .group_by(\"mask_pattern\")\n",
    "    .len(\"pattern_count\")\n",
    "    .sort(by=\"pattern_count\", descending=True)\n",
    "    .head(10)\n",
    ")"
   ]
  },
  {
   "cell_type": "markdown",
   "id": "8a9508ab-99ad-4c0e-bcd2-a8df9ef56fc0",
   "metadata": {},
   "source": [
    "## 데이터 저장"
   ]
  },
  {
   "cell_type": "markdown",
   "id": "8e2e72d3-61ee-403e-9d6f-3c89e690f3d5",
   "metadata": {},
   "source": [
    "EDA를 마친 corpus를 앞서 정의한 `result_dir`에 같은 다운받은 데이터셋과 동일한 이름으로 저장"
   ]
  },
  {
   "cell_type": "code",
   "execution_count": 15,
   "id": "9f5afa52-e480-4812-b6a2-a077680e5d2f",
   "metadata": {},
   "outputs": [],
   "source": [
    "result_path = result_dir.joinpath(f\"{archive_dir.name}.parquet\")\n",
    "eda_dataset.write_parquet(result_path)"
   ]
  },
  {
   "cell_type": "markdown",
   "id": "0e7808a4-4baa-4aa5-8711-7c53ca214824",
   "metadata": {},
   "source": [
    "로컬 디렉토리 정리"
   ]
  },
  {
   "cell_type": "code",
   "execution_count": 16,
   "id": "0ff14a9b-69c9-4071-98a7-af5e1e28e797",
   "metadata": {},
   "outputs": [
    {
     "data": {
      "text/plain": [
       "0"
      ]
     },
     "execution_count": 16,
     "metadata": {},
     "output_type": "execute_result"
    }
   ],
   "source": [
    "os.system(f\"rm -rf {archive_dir}\")"
   ]
  },
  {
   "cell_type": "markdown",
   "id": "a06e5bd9-895f-42e7-8ab3-d41d25573db8",
   "metadata": {},
   "source": [
    "저장된 데이터셋에는 한국어 문장(`korean`), 이에 대응하는 일본어 문장(`japanese`)과 함께 해당 문장의 카테고리(`category`)가 저장되어 있다."
   ]
  },
  {
   "cell_type": "code",
   "execution_count": 17,
   "id": "779a0167-586b-4d85-862b-7e43b9c50d47",
   "metadata": {},
   "outputs": [
    {
     "data": {
      "text/html": [
       "<div><style>\n",
       ".dataframe > thead > tr,\n",
       ".dataframe > tbody > tr {\n",
       "  text-align: right;\n",
       "  white-space: pre-wrap;\n",
       "}\n",
       "</style>\n",
       "<table border=\"1\" class=\"dataframe\"><thead><tr><th>korean</th><th>japanese</th><th>category</th></tr><tr><td>str</td><td>str</td><td>str</td></tr></thead><tbody><tr><td>&quot;지원 내용에 비해 채무자가 감수해야 할 불이익이 크다.&quot;</td><td>&quot;支援内容に比べて債務者が甘受しなければならない不利益が大きい。&quot;</td><td>&quot;금융/증시&quot;</td></tr><tr><td>&quot;&quot;상품을 사러 꼭 동대문에 가야 하나요?&quot; &quot;고객 불만 전화를 누가 대신 받아줬으면 좋겠어요.&quot; 온라인에서 장사하는 사업자들에…</td><td>&quot;「商品を買いに必ず東大門に行かなければならないのですか?」「顧客の不満電話を誰か代わりに取ってほしいです。」オンラインで商売をする事業者から…</td><td>&quot;IT/컴퓨터/모바일&quot;</td></tr><tr><td>&quot;시·도교육청들이 지난 9일 기준으로 중3과 고3 숫자를 보고해 교육부가 취합한 숫자다.&quot;</td><td>&quot;市・道教育庁が9日を基準に中3と高3の数字を報告し、教育部が集合した数字だ。&quot;</td><td>&quot;사회/노동/복지&quot;</td></tr><tr><td>&quot;우리은행에 대한 모럴해저드 비판은 비밀번호 도용사건이 발생한 지 약 1년 후 벌어진 &#x27;해외 금리연계 파생결합펀드&#x27;(DLF) 사…</td><td>&quot;ウリィ銀行に対するモラルハザードの批判は暗証番号盗用事件が発生してから約1年後に起きた「海外金利連係派生結合ファンド」(DLF)事態の時も提…</td><td>&quot;금융/증시&quot;</td></tr><tr><td>&quot;이어 이 재판 과정에서 위증을 교사한 혐의로 추가 기소돼 징역 1년의 실형까지 확정됐다.&quot;</td><td>&quot;続いてこの裁判過程で偽証を教唆した疑いで追加起訴され、懲役1年の実刑まで確定された。&quot;</td><td>&quot;사회/노동/복지&quot;</td></tr><tr><td>&quot;본 발명은 압전 트랜스를 성형 제조시 별도의 모서리부 면취 가공등을 삭제하여 압전 트랜스 제조공정을 단순화할 수 있도록한 압전…</td><td>&quot;本発明は、圧電トランスを成形製造する時、別途の角部面取り加工などを削除して圧電トランス製造工程を単純化できるようにした圧電トランスの製造方法…</td><td>&quot;특허/기술&quot;</td></tr><tr><td>&quot;공단은 중앙노동위의 이 같은 단서를 근거로 복직 10개월 만에 인사위원회를 열고 중징계 처분을 내렸다.&quot;</td><td>&quot;公団は、中央労働委のこのような手がかりを根拠に、復職10ヵ月後に人事委員会を開き、重い懲戒処分を下した。&quot;</td><td>&quot;사회/노동/복지&quot;</td></tr><tr><td>&quot;한국 사회는 경제 성장으로 인하여 새로운 것과 고가품에 대한 수요가 급증하였고, 옷을 패션으로 인식하며 끊임없이 새로운 것을 …</td><td>&quot;韓国社会は経済成長によって新しいものと高価品に対する需要が急増し、服をファッションとして認識し、絶えず新しいことを探してきた。&quot;</td><td>&quot;문화재/향토/K-FOOD&quot;</td></tr><tr><td>&quot;또한, 다이어프램의 상부로 설치되는 디스크판 역시 저면 외측단부에 접촉안전수단이 형성되므로, 다이어프램의 상, 하 작동시 접촉…</td><td>&quot;また、ダイアフラムの上部に設置されるディスク板も底面外側端部に接触安全手段が形成されるので、ダイアフラムの上・下作動時の接触によるダイアフラ…</td><td>&quot;특허/기술&quot;</td></tr><tr><td>&quot;&#x27;제2 테크노밸리 기업지원허브&#x27; 센터는 포스코건설이 시공한 대표적 친환경 건물이기도 하다.&quot;</td><td>&quot;「第2テクノバレー企業支援ハブ」センターは、ポスコ建設が施工した代表的な環境にやさしい建物でもある。&quot;</td><td>&quot;IT/컴퓨터/모바일&quot;</td></tr></tbody></table></div>"
      ],
      "text/plain": [
       "┌──────────────────────────────────────┬──────────────────────────────────────┬────────────────────┐\n",
       "│ korean                               ┆ japanese                             ┆ category           │\n",
       "│ ---                                  ┆ ---                                  ┆ ---                │\n",
       "│ str                                  ┆ str                                  ┆ str                │\n",
       "╞══════════════════════════════════════╪══════════════════════════════════════╪════════════════════╡\n",
       "│ 지원 내용에 비해 채무자가 감수해야   ┆ 支援内容に比べて債務者が甘受しなけれ ┆ 금융/증시          │\n",
       "│ 할 불이익이 크다.                    ┆ ばならない不利益が大きい。           ┆                    │\n",
       "│ \"상품을 사러 꼭 동대문에 가야        ┆ 「商品を買いに必ず東大門に行かなけれ ┆ IT/컴퓨터/모바일   │\n",
       "│ 하나요?\" \"고객 불만 전화를 누가 대신 ┆ ばならないのですか?」「顧客の不満電  ┆                    │\n",
       "│ 받아줬으면 좋겠어요.\" 온라인에서     ┆ 話を誰か代わりに取ってほしいです。」 ┆                    │\n",
       "│ 장사하는 사업자들에…                 ┆ オンラインで商売をする事業者から…    ┆                    │\n",
       "│ 시·도교육청들이 지난 9일 기준으로    ┆ 市・道教育庁が9日を基準に中3と高3の  ┆ 사회/노동/복지     │\n",
       "│ 중3과 고3 숫자를 보고해 교육부가     ┆ 数字を報告し、教育部が集合した数字だ ┆                    │\n",
       "│ 취합한 숫자다.                       ┆ 。                                   ┆                    │\n",
       "│ 우리은행에 대한 모럴해저드 비판은    ┆ ウリィ銀行に対するモラルハザードの批 ┆ 금융/증시          │\n",
       "│ 비밀번호 도용사건이 발생한 지 약 1년 ┆ 判は暗証番号盗用事件が発生してから約 ┆                    │\n",
       "│ 후 벌어진 '해외 금리연계             ┆ 1年後に起きた「海外金利連係派生結合  ┆                    │\n",
       "│ 파생결합펀드'(DLF) 사…               ┆ ファンド」(DLF)事態の時も提…         ┆                    │\n",
       "│ 이어 이 재판 과정에서 위증을 교사한  ┆ 続いてこの裁判過程で偽証を教唆した疑 ┆ 사회/노동/복지     │\n",
       "│ 혐의로 추가 기소돼 징역 1년의        ┆ いで追加起訴され、懲役1年の実刑まで  ┆                    │\n",
       "│ 실형까지 확정됐다.                   ┆ 確定された。                         ┆                    │\n",
       "│ 본 발명은 압전 트랜스를 성형 제조시  ┆ 本発明は、圧電トランスを成形製造する ┆ 특허/기술          │\n",
       "│ 별도의 모서리부 면취 가공등을        ┆ 時、別途の角部面取り加工などを削除し ┆                    │\n",
       "│ 삭제하여 압전 트랜스 제조공정을      ┆ て圧電トランス製造工程を単純化できる ┆                    │\n",
       "│ 단순화할 수 있도록한 압전…           ┆ ようにした圧電トランスの製造方法…    ┆                    │\n",
       "│ 공단은 중앙노동위의 이 같은 단서를   ┆ 公団は、中央労働委のこのような手がか ┆ 사회/노동/복지     │\n",
       "│ 근거로 복직 10개월 만에 인사위원회를 ┆ りを根拠に、復職10ヵ月後に人事委員会 ┆                    │\n",
       "│ 열고 중징계 처분을 내렸다.           ┆ を開き、重い懲戒処分を下した。       ┆                    │\n",
       "│ 한국 사회는 경제 성장으로 인하여     ┆ 韓国社会は経済成長によって新しいもの ┆ 문화재/향토/K-FOOD │\n",
       "│ 새로운 것과 고가품에 대한 수요가     ┆ と高価品に対する需要が急増し、服をフ ┆                    │\n",
       "│ 급증하였고, 옷을 패션으로 인식하며   ┆ ァッションとして認識し、絶えず新しい ┆                    │\n",
       "│ 끊임없이 새로운 것을 …               ┆ ことを探してきた。                   ┆                    │\n",
       "│ 또한, 다이어프램의 상부로 설치되는   ┆ また、ダイアフラムの上部に設置される ┆ 특허/기술          │\n",
       "│ 디스크판 역시 저면 외측단부에        ┆ ディスク板も底面外側端部に接触安全手 ┆                    │\n",
       "│ 접촉안전수단이 형성되므로,           ┆ 段が形成されるので、ダイアフラムの上 ┆                    │\n",
       "│ 다이어프램의 상, 하 작동시 접촉…     ┆ ・下作動時の接触によるダイアフラ…    ┆                    │\n",
       "│ '제2 테크노밸리 기업지원허브' 센터는 ┆ 「第2テクノバレー企業支援ハブ」セン  ┆ IT/컴퓨터/모바일   │\n",
       "│ 포스코건설이 시공한 대표적 친환경    ┆ ターは、ポスコ建設が施工した代表的な ┆                    │\n",
       "│ 건물이기도 하다.                     ┆ 環境にやさしい建物でもある。         ┆                    │\n",
       "└──────────────────────────────────────┴──────────────────────────────────────┴────────────────────┘"
      ]
     },
     "execution_count": 17,
     "metadata": {},
     "output_type": "execute_result"
    }
   ],
   "source": [
    "eda_dataset.head(10)"
   ]
  }
 ],
 "metadata": {
  "kernelspec": {
   "display_name": "Python 3 (ipykernel)",
   "language": "python",
   "name": "python3"
  },
  "language_info": {
   "codemirror_mode": {
    "name": "ipython",
    "version": 3
   },
   "file_extension": ".py",
   "mimetype": "text/x-python",
   "name": "python",
   "nbconvert_exporter": "python",
   "pygments_lexer": "ipython3",
   "version": "3.10.10"
  }
 },
 "nbformat": 4,
 "nbformat_minor": 5
}
