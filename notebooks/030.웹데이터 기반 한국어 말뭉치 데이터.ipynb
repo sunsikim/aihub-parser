{
 "cells": [
  {
   "cell_type": "code",
   "execution_count": 1,
   "id": "ef18ca60-2601-4b0e-96a3-bfe1c82a65a2",
   "metadata": {},
   "outputs": [],
   "source": [
    "import os\n",
    "import pathlib\n",
    "import shutil\n",
    "import json\n",
    "import polars as pl\n",
    "from pprint import pprint\n",
    "from tqdm import tqdm\n",
    "\n",
    "pl.Config.load_from_file(\"pl_config.json\")\n",
    "pl.set_random_seed(999)"
   ]
  },
  {
   "cell_type": "markdown",
   "id": "4c10fade-fe4e-4057-92fa-e7e5ff0e5943",
   "metadata": {},
   "source": [
    "## 다운로드"
   ]
  },
  {
   "cell_type": "markdown",
   "id": "f545f605-d99b-4be4-ae9d-6c811de396a9",
   "metadata": {},
   "source": [
    "다운받을 데이터셋 정보 조회"
   ]
  },
  {
   "cell_type": "code",
   "execution_count": 2,
   "id": "04ac5194-5898-4fa1-8c9f-1de9d0eeeac3",
   "metadata": {},
   "outputs": [
    {
     "name": "stdout",
     "output_type": "stream",
     "text": [
      "==========================================\n",
      "aihubshell version 24.01.29 v0.3\n",
      "==========================================\n",
      "Fetching file tree structure...\n",
      "The contents are encoded in UTF-8 including Korean characters. \n",
      "If the following contents are not output normally, \n",
      "Please modify the character information of the OS. \n",
      "=================공지사항=================== \n",
      "========================================== \n",
      "\n",
      "    └─030.웹데이터 기반 한국어 말뭉치 데이터\n",
      "        ├─01.데이터\n",
      "        │  ├─1.Training\n",
      "        │  │  ├─라벨링데이터\n",
      "        │  │  │  └─TL1.zip | 4 GB | 32785\n",
      "        │  │  └─원천데이터\n",
      "        │  │      └─TS1.zip | 4 GB | 32786\n",
      "        │  └─2.Validation\n",
      "        │      ├─라벨링데이터\n",
      "        │      │  └─VL1.zip | 550 MB | 32787\n",
      "        │      └─원천데이터\n",
      "        │          └─VS1.zip | 472 MB | 32788\n",
      "        ├─02.저작도구\n",
      "        │  └─저작도구 사용매뉴얼.zip | 14 MB | 54504\n",
      "        └─03.AI 모델\n",
      "            └─AI모델 및 소스코드.zip | 811 MB | 487494\n"
     ]
    }
   ],
   "source": [
    "!aihubshell -mode l -datasetkey 624"
   ]
  },
  {
   "cell_type": "markdown",
   "id": "9a31ee30-082b-44c8-bfe4-cdc390b110b3",
   "metadata": {},
   "source": [
    "구어체 데이터는 원천 데이터, 라벨링 데이터로 구성되어 있다. AI Hub 데이터셋 소개란에 기재된 [개요](https://aihub.or.kr/aihubdata/data/view.do?currMenu=115&topMenu=100&aihubDataSe=data&dataSetSn=624)에 따르면:\n",
    "\n",
    "* 원천 데이터\n",
    "  * 원시데이터(웹데이터)로부터 비문, 비속어, 편향성, 비식별화 등 정제된 JSON 구조의 텍스트 데이터 10억 어절 이상\n",
    "* 라벨링 데이터\n",
    "  * 원천데이터로부터 JSON구조의 구문에 맞게 개체명과 신조어, 형태소(간투어, 부사 등)에 대하여 태깅된 텍스트 데이터 10억 어절 이상\n",
    "\n",
    "따라서, 언어모델 사전학습용 말뭉치 구성을 위한 텍스트만 추출해야 한다면 원천데이터(32786, 32788)만 사용하면 된다."
   ]
  },
  {
   "cell_type": "code",
   "execution_count": 3,
   "id": "42ff81c2-e562-4ffc-993b-f1d64af9d964",
   "metadata": {},
   "outputs": [],
   "source": [
    "archive_dir = [path for path in pathlib.Path(os.getcwd()).glob(\"030*\") if path.suffix != \".ipynb\"][0]\n",
    "result_dir = pathlib.Path(f\"{os.getcwd()}/aihub-datasets\")\n",
    "result_dir = result_dir.joinpath(archive_dir.name)\n",
    "if result_dir.exists():\n",
    "    os.system(f\"rm -rf {result_dir}\")\n",
    "result_dir.mkdir(parents=True, exist_ok=True)"
   ]
  },
  {
   "cell_type": "markdown",
   "id": "62b43dc2-a81a-4512-b684-c2d36f39e83d",
   "metadata": {},
   "source": [
    "## 압축 해제 및 EDA"
   ]
  },
  {
   "cell_type": "markdown",
   "id": "fe1d95fd-13f3-448b-b0a7-07a1d178422c",
   "metadata": {},
   "source": [
    "원천데이터 압축파일 경로 정의"
   ]
  },
  {
   "cell_type": "code",
   "execution_count": 4,
   "id": "cb7ffd56-7455-4d97-9b9c-667eef67cd9f",
   "metadata": {},
   "outputs": [],
   "source": [
    "archive_paths = []\n",
    "for walk in os.walk(archive_dir):\n",
    "    current_path, folders, files = walk\n",
    "    for file_name in files:\n",
    "        if file_name.endswith(\".zip\") and current_path.endswith(\"원천데이터\"):\n",
    "            archive_paths.append(f\"{current_path}/{file_name}\")"
   ]
  },
  {
   "cell_type": "markdown",
   "id": "14ef67f8-55a9-481f-9964-27f893a3ae4d",
   "metadata": {},
   "source": [
    "압축 해제"
   ]
  },
  {
   "cell_type": "code",
   "execution_count": 5,
   "id": "f3a2ebca-d2c5-4a77-8b61-e80c2a61a289",
   "metadata": {},
   "outputs": [],
   "source": [
    "for archive_path in archive_paths:\n",
    "    data_dir = pathlib.Path(archive_path.strip(\".zip\"))\n",
    "    shutil.unpack_archive(\n",
    "        filename=archive_path,\n",
    "        extract_dir=data_dir,\n",
    "        format=\"zip\",\n",
    "    )"
   ]
  },
  {
   "cell_type": "markdown",
   "id": "2cebd57a-fbde-45d8-a88a-fe1820cf71c3",
   "metadata": {},
   "source": [
    "각 데이터는 json 형태로 저장되어 있다. 파일 하나가 게시글 하나고, 하위 필드에 댓글 등 구어체 데이터가 달려있는 양상을 보인다."
   ]
  },
  {
   "cell_type": "code",
   "execution_count": 6,
   "id": "470aa678-5624-453a-8dd4-782aae7a7859",
   "metadata": {},
   "outputs": [
    {
     "name": "stdout",
     "output_type": "stream",
     "text": [
      "Number of files in dataset : 58,997\n"
     ]
    }
   ],
   "source": [
    "data_files = list(archive_dir.joinpath(\"01.데이터\").glob(\"*/원천데이터/[TV]S1/*/*.json\"))\n",
    "print(f\"Number of files in dataset : {len(data_files):,}\")"
   ]
  },
  {
   "cell_type": "markdown",
   "id": "be6fce54-c581-4e2a-a0f9-d58f6d97245a",
   "metadata": {},
   "source": [
    "데이터 속성값들. 여기서도 `(이름)` 태그가 사용되어 비식별화가 적용된 것을 확인할 수 있다."
   ]
  },
  {
   "cell_type": "code",
   "execution_count": 7,
   "id": "d7a26163-c9ac-4c3a-9abd-73dd514e742d",
   "metadata": {},
   "outputs": [
    {
     "name": "stdout",
     "output_type": "stream",
     "text": [
      "[{'board': '스포츠_해외축구',\n",
      "  'content': '독일 도르트문트의 공격수 엘링 홀란드(20)의 활약에 그의 에이전트 미노 라이올라(53)가 활짝 웃었다.. . '\n",
      "             \"라이올라는 7일(한국시간) 영국 미러를 통해 '홀란드의 도르트문트 이적은 정말 잘 한 결정이다'고 웃었다.. . \"\n",
      "             '1월 이적 시장을 통해 도르트문트 유니폼을 입은 홀란드는 데뷔전이었던 지난달 18일 아우크스부르크전부터 해트트릭을 '\n",
      "             '터뜨려 주목을 받았고, 25일 쾰른과 홈경기에서도 멀티골을 기록했다. 지난 1일 우니온 베를린전에서도 2골을 '\n",
      "             '터뜨렸다. 그리고 지난 5일 독일축구협회(dfb)컵 16강 베르더 브레멘전에서 1골을 추가했다. 도르트문트 이적 후 '\n",
      "             '4경기에서 무려 8골을 뽑아낸 것이다. 그야말로 엄청난 결정력이다.. . 홀란드는 사실 맨유행이 유력했다. 하지만 '\n",
      "             '맨유는 홀란드의 에이전트 라이올라와의 사이가 갑작스럽게 틀어졌다. 라이올라는 홀란드의 아버지와 맨유 훈련장까지 '\n",
      "             '방문했지만 끝내 결렬됐다. 현지 보도에 따르면 라이올라가 무리한 수수료를 요구한 것으로 전해졌다. 홀란드는 '\n",
      "             \"도르트문트로 이적했고, 승승장구하고 있다.. . 라이올라는 '지난 1년간 홀란드, 그의 아버지와 바쁜 나날을 \"\n",
      "             \"보냈다. 많은 클럽과 이야기하며 그들의 계획을 듣고, 보고, 협상했다'며 '홀란드가 좋은 결정을 할 수 있게 \"\n",
      "             \"도와줬다'고 만족감을 드러냈다..\",\n",
      "  'source_site': '스타뉴스',\n",
      "  'subtitle': '',\n",
      "  'title': \"'이적 후 4g 8골' 홀란드 활약에 에이전트 라이올라 '잘한 결정이었지'\",\n",
      "  'url': 'https://star.mt.co.kr/stview.php?no=2020020715453871931',\n",
      "  'write_date': '2020-02-07 19:09:08',\n",
      "  'writer': '(이름)'},\n",
      " {'board': '스포츠_해외축구',\n",
      "  'content': 'fc 바르셀로나와 네이마르(28·파리 생제르망)의 입장이 바뀐 모양새다. 전에는 네이마르가 바르셀로나 복귀를 '\n",
      "             \"원한다고 했지만, 이제는 네이마르가 갈 생각이 없어졌다.. . 영국 더 선은 7일(한국시간) '이번 여름 이적시장은 \"\n",
      "             \"조용할 것'이라며 '네이마르의 바르셀로나 이적은 없을 것이다. 파리 생제르망(psg)와 연장계약도 없다'라고 \"\n",
      "             \"전했다.. . 네이마르 측 관계자는 '바르셀로나 복귀에 대해 이야기한 적이 없다. 당분간 우리 관심사는 신종 코로나 \"\n",
      "             \"바이러스 감염증(코로나19) 뿐이다. 연장계약도 없겠지만, 다른 어디도 가지 않는다'라고 말했다.. . 네이마르는 \"\n",
      "             '바르셀로나에서 뛰다 지난 2017년 여름 psg로 이적했다. 2억 2200만 유로라는 역대 최고액 이적료를 '\n",
      "             \"기록했다. 리오넬 메시(33)의 그늘에서 벗어나 '에이스'가 되고 싶었던 네이마르가 세기의 이적을 결정했다.. . \"\n",
      "             '1년 후인 2018년 네이마르가 바르셀로나 복귀를 원한다는 소식이 나왔다. psg에서 에딘손 카바니(33)와 불화가 '\n",
      "             '있었고, 구단주와 불화 소식도 있었다. 이에 이적을 후회한 네이마르가 바르셀로나로 돌아가고 싶어한다는 것이다.. . '\n",
      "             '처음에는 네이마르의 일방적인 구애에 가까웠다. 하지만 바르셀로나도 점점 움직이기 시작했다. 네이마르-메시-수아레스의 '\n",
      "             '삼각편대는 유럽에서도 최고를 다투는 공격진이었기 때문이다. 이에 여러 카드를 내놓기 시작했다.. . 천문학적인 돈을 '\n",
      "             '쓴 psg가 네이마르를 그냥 놔줄 (이름) 없었고, 이적은 성사되지 않았다. 그렇게 2020년이 됐고, 여름 '\n",
      "             '이적시장이 서서히 보이는 시점이다.. . 바르셀로나는 여전히 네이마르를 데려오고자 한다. 현금과 함께 1억 '\n",
      "             '2000만 유로를 들여 데려온 앙투안 그리즈만(29)을 매물로 내놨다. 다른 선수를 얹는 것도 생각하고 있다.. . '\n",
      "             \"그런데 네이마르가 '안 가요'라고 했다. 먼저 돌아가고 싶다고 했던 네이마르였지만, 이제는 아닌 모양이다. 이적을 \"\n",
      "             '추진하던 바르셀로나도 당황할 수밖에 없다. 상황이 묘하게 돌아가고 있다.',\n",
      "  'source_site': '스타뉴스',\n",
      "  'subtitle': '',\n",
      "  'title': \"네이마르 '나 아무데도 안 가'... 졸지에 버려진 바르셀로나\",\n",
      "  'url': 'https://star.mt.co.kr/stview.php?no=2020040713460014922',\n",
      "  'write_date': '2020-04-07 17:13:02',\n",
      "  'writer': '(이름)'},\n",
      " {'board': '스포츠_해외축구',\n",
      "  'content': '다시 맨체스터 유나이티드(맨유)로 돌아올 예정인 알렉시스 산체스(32·인터밀란)가 다른 팀으로 가기 위해 자신의 '\n",
      "             '주급을 깎을 생각은 하지 않고 있다. 극적 반등이 없다면, 맨유로서는 골칫덩이를 계속 안고 가야 할 상황이다.. . '\n",
      "             \"espn은 7일(한국시간) '인터밀란은 산체스의 완전 영입을 주저하고 있다. 맨유로 복귀하더라도, 계약이 2년이 \"\n",
      "             '남아 있다. 연봉을 낮추는 것이 이적에 도움이 될지라도 산체스는 자신의 주급 50만 파운드(약 7억 4000만원)를 '\n",
      "             \"포기할 생각이 없다'라고 전했다.. . 이어 '맨유는 현재 조건으로는 올 여름 이적시장에서 산체스를 팔기가 어렵다는 \"\n",
      "             \"것을 알고 있다. 올레 군나르 솔샤르 감독이 어쩔 수 없이 산체스를 안고 가야 할 상황이다'라고 더했다.. . \"\n",
      "             '산체스는 지난 2018년 1월 아스날을 떠나 맨유로 왔다. 아스날에서는 펄펄 날았지만, 맨유에서는 침묵했다. 지난해 '\n",
      "             '8월 인터밀란으로 임대됐고, 달라진 모습을 기대했으나 부상으로 단 9경기 출전에 그쳤다. 기록도 1골 3어시스트가 '\n",
      "             '전부.. . 산체스의 주급 가운데 70%를 부담하고 있는 인터밀란으로서는 아쉬움이 남을 수밖에 없다. 더 안고 '\n",
      "             '가기도 만만치 않은 상황. 답은 하나다. 오는 6월 임대 기간이 끝나면 맨유로 보내면 된다.. . 맨유도 난감하다. '\n",
      "             '돌아와서 잘한다는 보장이 없다. 게다가 자리도 없다. espn에 따르면 맨유는 보강 우선 순위에 우측 윙어, 중앙 '\n",
      "             '공격수, 공격형 미드필더를 놓은 상태. 산체스는 왼쪽 윙어다.. . 딱히 뛸 자리도 없는데, 막대한 돈을 줘가면서 '\n",
      "             '데리고 있어야 한다. 맨유로서는 답답할 수밖에 없다. 산체스가 다시 펄펄 날아주면 최선인데, 쉽지 않아 보인다.',\n",
      "  'source_site': '스타뉴스',\n",
      "  'subtitle': '',\n",
      "  'title': \"'주급 7억' 산체스 '돈 포기 못해'... 맨유, 두고두고 '골치'\",\n",
      "  'url': 'https://star.mt.co.kr/stview.php?no=2020040723132445030',\n",
      "  'write_date': '2020-04-08 00:15:13',\n",
      "  'writer': '(이름)'},\n",
      " {'board': '스포츠_해외축구',\n",
      "  'content': \"유벤투스 선수단이 4달 월급에 해당하는 금액을 받지 않기로 했다. '간판스타' 크리스티아누 호날두(35)도 당연히 \"\n",
      "             \"포함이다.. . 영국 bbc는 29일(한국시간) '유벤투스 선수들이 코로나 바이러스(코로나 19)로 인해 경기가 \"\n",
      "             '열리지 못하자 3월부터 6월 월급 전액을 받지 않기로 구단과 합의했다. 마우리치오 사리 감독 역시 여기에 함께했다. '\n",
      "             \"이 금액은 무려 9000만 유로(약 1210억원)에 달한다'고 전했다.. . 유벤투스는 '구단은 이렇게 힘든 시기에 \"\n",
      "             \"협(이름) 선수들과 스태프들에게 감사 인사를 전하고 싶다'는 성명을 발표했다.. . 이탈리아는 유럽 국가 가운데 \"\n",
      "             '코로나 19 확진자가 가장 많은 국가다. bbc 등에 따르면 29일 현재 확진자가 9만 2천명 (이름)고 사망자도 '\n",
      "             '무려 1만명 (이름)다. 이로 인해 지난 10일 사수올로와 브레시아와 경기를 마지막으로 세리에a 일정도 중단됐다.. '\n",
      "             '. 자연스럽게 구단의 수입을 얻을 수 있는 기회가 줄어들자 선수단 급료 삭감 이야기가 흘러나왔다. 바르셀로나 등 '\n",
      "             '최정상급 구단들도 예외가 없었다. 이탈리아는 다행히 급료 삭감에 특별한 진통이 발생하지 않았다.. .',\n",
      "  'source_site': '스타뉴스',\n",
      "  'subtitle': '',\n",
      "  'title': \"'호날두도 포함!' 유벤투스, 네달치 월급 포기 '무려 1210억원'\",\n",
      "  'url': 'https://star.mt.co.kr/stview.php?no=2020032917011011853',\n",
      "  'write_date': '2020-03-29 17:10:23',\n",
      "  'writer': '(이름)'}]\n"
     ]
    }
   ],
   "source": [
    "with open(data_files[0], \"r\") as file:\n",
    "    documents = json.load(file)[\"SJML\"][\"text\"]\n",
    "pprint(documents[:4])"
   ]
  },
  {
   "cell_type": "markdown",
   "id": "0bee08fa-8d28-4c8c-9614-7e04ea37813b",
   "metadata": {},
   "source": [
    "전체 로드\n",
    "\n",
    "* 글자수가 10 이상인 문장들만 사용\n",
    "* 텍스트의 첫문장과 끝문장이 서명인 경우가 다수 있어서 처음과 끝 두 문장은 날림\n",
    "* 전체 데이터셋 용량이 꽤 크므로 파티션으로 분할"
   ]
  },
  {
   "cell_type": "code",
   "execution_count": 8,
   "id": "1649f00c-89be-4987-9ec5-9d68304981ad",
   "metadata": {},
   "outputs": [
    {
     "name": "stderr",
     "output_type": "stream",
     "text": [
      "100%|████████████████████████████████████| 58997/58997 [02:05<00:00, 471.53it/s]\n"
     ]
    }
   ],
   "source": [
    "corpus = []\n",
    "partition_idx = 0\n",
    "for data_file in tqdm(data_files):\n",
    "    with open(data_file, \"r\") as file:\n",
    "        documents = json.load(file)[\"SJML\"][\"text\"]\n",
    "    for document in documents:\n",
    "        sentences = filter(lambda x: len(x) >= 10 and \"(이름)\" not in x, document[\"content\"].split(\". \")[1:-1])\n",
    "        sentences = map(lambda x: x.replace(\".\", \"\"), sentences)\n",
    "        corpus.extend(list(sentences))\n",
    "    if len(corpus) >= 2_000_000:\n",
    "        partition = pl.DataFrame({\"document\": corpus})\n",
    "        partition.write_parquet(result_dir.joinpath(f\"partition_{partition_idx:02}.parquet\"))\n",
    "        partition_idx += 1\n",
    "        corpus = []\n",
    "if corpus:\n",
    "    partition = pl.DataFrame({\"document\": corpus})\n",
    "    partition.write_parquet(result_dir.joinpath(f\"partition_{partition_idx:02}.parquet\"))"
   ]
  },
  {
   "cell_type": "markdown",
   "id": "5c6953c7-6661-4d3d-8280-669d625895d0",
   "metadata": {},
   "source": [
    "### 문서 토큰 수 분포 확인"
   ]
  },
  {
   "cell_type": "markdown",
   "id": "a7d8a4e0-04cf-4172-965c-82c86fdf3ac5",
   "metadata": {},
   "source": [
    "한국어에서는 정확히 적용되지 않지만, 편의를 위해 어절의 수(`공백 수 + 1`)를 토큰 수라고 정의한다. 6억개 가량의 토큰을 획득할 수 있는 corpus임을 알 수 있다."
   ]
  },
  {
   "cell_type": "code",
   "execution_count": 11,
   "id": "caa16cc4-e970-474d-af81-07a8e35f43b6",
   "metadata": {},
   "outputs": [
    {
     "name": "stderr",
     "output_type": "stream",
     "text": [
      "20it [00:18,  1.06it/s]"
     ]
    },
    {
     "name": "stdout",
     "output_type": "stream",
     "text": [
      "Number of tokens in the corpus : 592,263,094\n"
     ]
    },
    {
     "name": "stderr",
     "output_type": "stream",
     "text": [
      "\n"
     ]
    }
   ],
   "source": [
    "num_tokens = []\n",
    "for partition_path in tqdm(result_dir.glob(\"*.parquet\")):\n",
    "    partition = pl.read_parquet(partition_path)\n",
    "    document_tokens = (\n",
    "        partition\n",
    "        .with_columns((pl.col(\"document\").str.count_matches(\" \") + 1).alias(\"num_tokens\"))\n",
    "        .to_dict(as_series=False)[\"num_tokens\"]\n",
    "    )\n",
    "    num_tokens.extend(document_tokens)\n",
    "print(f\"Number of tokens in the corpus : {sum(num_tokens):,}\")"
   ]
  },
  {
   "cell_type": "markdown",
   "id": "1882a398-7391-43db-baa8-cc3e7065f49e",
   "metadata": {},
   "source": [
    "문서당 토큰 수 분포"
   ]
  },
  {
   "cell_type": "code",
   "execution_count": 12,
   "id": "b945e798-e39e-4be5-bf8c-eb04f62abc6f",
   "metadata": {},
   "outputs": [
    {
     "data": {
      "text/html": [
       "<div><style>\n",
       ".dataframe > thead > tr,\n",
       ".dataframe > tbody > tr {\n",
       "  text-align: right;\n",
       "  white-space: pre-wrap;\n",
       "}\n",
       "</style>\n",
       "<table border=\"1\" class=\"dataframe\"><thead><tr><th>min</th><th>q05</th><th>Q1</th><th>median</th><th>Q3</th><th>q95</th><th>max</th></tr><tr><td>i64</td><td>i32</td><td>i32</td><td>i32</td><td>i32</td><td>i32</td><td>i64</td></tr></thead><tbody><tr><td>1</td><td>4</td><td>9</td><td>13</td><td>19</td><td>32</td><td>2,637</td></tr></tbody></table></div>"
      ],
      "text/plain": [
       "┌─────┬─────┬─────┬────────┬─────┬─────┬───────┐\n",
       "│ min ┆ q05 ┆ Q1  ┆ median ┆ Q3  ┆ q95 ┆ max   │\n",
       "│ --- ┆ --- ┆ --- ┆ ---    ┆ --- ┆ --- ┆ ---   │\n",
       "│ i64 ┆ i32 ┆ i32 ┆ i32    ┆ i32 ┆ i32 ┆ i64   │\n",
       "╞═════╪═════╪═════╪════════╪═════╪═════╪═══════╡\n",
       "│ 1   ┆ 4   ┆ 9   ┆ 13     ┆ 19  ┆ 32  ┆ 2,637 │\n",
       "└─────┴─────┴─────┴────────┴─────┴─────┴───────┘"
      ]
     },
     "execution_count": 12,
     "metadata": {},
     "output_type": "execute_result"
    }
   ],
   "source": [
    "pl.DataFrame({\"num_tokens\": num_tokens}).select(\n",
    "    pl.col(\"num_tokens\").min().alias(\"min\"),\n",
    "    pl.col(\"num_tokens\").quantile(0.05).cast(pl.Int32).alias(\"q05\"),\n",
    "    pl.col(\"num_tokens\").quantile(0.25).cast(pl.Int32).alias(\"Q1\"),\n",
    "    pl.col(\"num_tokens\").quantile(0.50).cast(pl.Int32).alias(\"median\"),\n",
    "    pl.col(\"num_tokens\").quantile(0.75).cast(pl.Int32).alias(\"Q3\"),\n",
    "    pl.col(\"num_tokens\").quantile(0.95).cast(pl.Int32).alias(\"q95\"),\n",
    "    pl.col(\"num_tokens\").max().alias(\"max\"),\n",
    ")"
   ]
  }
 ],
 "metadata": {
  "kernelspec": {
   "display_name": "Python 3 (ipykernel)",
   "language": "python",
   "name": "python3"
  },
  "language_info": {
   "codemirror_mode": {
    "name": "ipython",
    "version": 3
   },
   "file_extension": ".py",
   "mimetype": "text/x-python",
   "name": "python",
   "nbconvert_exporter": "python",
   "pygments_lexer": "ipython3",
   "version": "3.10.10"
  }
 },
 "nbformat": 4,
 "nbformat_minor": 5
}
